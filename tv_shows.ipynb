{
 "cells": [
  {
   "cell_type": "markdown",
   "id": "657d8f36",
   "metadata": {},
   "source": [
    "DataSet Download Link:   https://www.kaggle.com/datasets/tiagoadrianunes/imdb-top-5000-tv-shows"
   ]
  },
  {
   "cell_type": "code",
   "execution_count": 1,
   "id": "de995ebc",
   "metadata": {},
   "outputs": [],
   "source": [
    "import pandas as pd"
   ]
  },
  {
   "cell_type": "code",
   "execution_count": 2,
   "id": "ac7c1e66",
   "metadata": {},
   "outputs": [
    {
     "name": "stdout",
     "output_type": "stream",
     "text": [
      "<class 'pandas.core.frame.DataFrame'>\n",
      "RangeIndex: 5000 entries, 0 to 4999\n",
      "Data columns (total 12 columns):\n",
      " #   Column           Non-Null Count  Dtype  \n",
      "---  ------           --------------  -----  \n",
      " 0   tconst           5000 non-null   object \n",
      " 1   primaryTitle     5000 non-null   object \n",
      " 2   startYear        5000 non-null   int64  \n",
      " 3   endYear          4153 non-null   float64\n",
      " 4   rank             5000 non-null   int64  \n",
      " 5   averageRating    5000 non-null   float64\n",
      " 6   numVotes         5000 non-null   int64  \n",
      " 7   directors        5000 non-null   object \n",
      " 8   writers          5000 non-null   object \n",
      " 9   genres           5000 non-null   object \n",
      " 10  IMDbLink         5000 non-null   object \n",
      " 11  Title_IMDb_Link  5000 non-null   object \n",
      "dtypes: float64(2), int64(3), object(7)\n",
      "memory usage: 468.9+ KB\n"
     ]
    }
   ],
   "source": [
    "data = pd.read_csv(\"imdb_top_5000_tv_shows.csv\")\n",
    "data.shape\n",
    "data.info()"
   ]
  },
  {
   "cell_type": "code",
   "execution_count": 3,
   "id": "30f990e6",
   "metadata": {},
   "outputs": [
    {
     "data": {
      "text/html": [
       "<div>\n",
       "<style scoped>\n",
       "    .dataframe tbody tr th:only-of-type {\n",
       "        vertical-align: middle;\n",
       "    }\n",
       "\n",
       "    .dataframe tbody tr th {\n",
       "        vertical-align: top;\n",
       "    }\n",
       "\n",
       "    .dataframe thead th {\n",
       "        text-align: right;\n",
       "    }\n",
       "</style>\n",
       "<table border=\"1\" class=\"dataframe\">\n",
       "  <thead>\n",
       "    <tr style=\"text-align: right;\">\n",
       "      <th></th>\n",
       "      <th>tconst</th>\n",
       "      <th>primaryTitle</th>\n",
       "      <th>startYear</th>\n",
       "      <th>endYear</th>\n",
       "      <th>rank</th>\n",
       "      <th>averageRating</th>\n",
       "      <th>numVotes</th>\n",
       "      <th>directors</th>\n",
       "      <th>writers</th>\n",
       "      <th>genres</th>\n",
       "    </tr>\n",
       "  </thead>\n",
       "  <tbody>\n",
       "    <tr>\n",
       "      <th>0</th>\n",
       "      <td>tt0903747</td>\n",
       "      <td>Breaking Bad</td>\n",
       "      <td>2008</td>\n",
       "      <td>2013.0</td>\n",
       "      <td>1</td>\n",
       "      <td>9.5</td>\n",
       "      <td>2384857</td>\n",
       "      <td>Michelle MacLaren, Adam Bernstein, Vince Gilli...</td>\n",
       "      <td>Vince Gilligan, Peter Gould, George Mastras, S...</td>\n",
       "      <td>Crime, Drama, Thriller</td>\n",
       "    </tr>\n",
       "  </tbody>\n",
       "</table>\n",
       "</div>"
      ],
      "text/plain": [
       "      tconst  primaryTitle  startYear  endYear  rank  averageRating  numVotes  \\\n",
       "0  tt0903747  Breaking Bad       2008   2013.0     1            9.5   2384857   \n",
       "\n",
       "                                           directors  \\\n",
       "0  Michelle MacLaren, Adam Bernstein, Vince Gilli...   \n",
       "\n",
       "                                             writers                  genres  \n",
       "0  Vince Gilligan, Peter Gould, George Mastras, S...  Crime, Drama, Thriller  "
      ]
     },
     "execution_count": 3,
     "metadata": {},
     "output_type": "execute_result"
    }
   ],
   "source": [
    "data.drop([\"IMDbLink\",\"Title_IMDb_Link\"], axis=1, inplace=True)\n",
    "data.head(1)"
   ]
  },
  {
   "cell_type": "code",
   "execution_count": 4,
   "id": "3d469dda",
   "metadata": {},
   "outputs": [
    {
     "name": "stdout",
     "output_type": "stream",
     "text": [
      "tconst                  object\n",
      "primaryTitle            object\n",
      "startYear        period[Y-DEC]\n",
      "endYear          period[Y-DEC]\n",
      "rank                     int64\n",
      "averageRating          float64\n",
      "numVotes                 int64\n",
      "directors               object\n",
      "writers                 object\n",
      "genres                  object\n",
      "dtype: object\n",
      "  startYear endYear\n",
      "0      2008    2013\n",
      "1      2001    2001\n",
      "2      2019    2019\n",
      "3      2005    2008\n",
      "4      2002    2008\n"
     ]
    }
   ],
   "source": [
    "data[\"startYear\"]=pd.to_datetime(data[\"startYear\"],format=\"%Y\").dt.to_period('Y')\n",
    "data[\"endYear\"]=pd.to_datetime(data[\"endYear\"],format=\"%Y\", errors=\"coerce\").dt.to_period('Y')\n",
    "print(data.dtypes)\n",
    "print(data[['startYear', 'endYear']].head())"
   ]
  },
  {
   "cell_type": "markdown",
   "id": "7353a33d",
   "metadata": {},
   "source": [
    "### Q1:\n",
    "How many rows and columns are in your dataset after dropping those two link columns?"
   ]
  },
  {
   "cell_type": "code",
   "execution_count": 5,
   "id": "6b7f0eb6",
   "metadata": {},
   "outputs": [
    {
     "name": "stdout",
     "output_type": "stream",
     "text": [
      "rows and columns after deleting two columns:  (5000, 10)\n"
     ]
    }
   ],
   "source": [
    "print(\"rows and columns after deleting two columns: \",data.shape)"
   ]
  },
  {
   "cell_type": "markdown",
   "id": "82f597b5",
   "metadata": {},
   "source": [
    "### Q2:\n",
    "Can you find the column names that are still present in your dataset after this deletion?"
   ]
  },
  {
   "cell_type": "code",
   "execution_count": 6,
   "id": "57db675d",
   "metadata": {},
   "outputs": [
    {
     "name": "stdout",
     "output_type": "stream",
     "text": [
      "columns in my dataset are: \n",
      "tconst\n",
      "primaryTitle\n",
      "startYear\n",
      "endYear\n",
      "rank\n",
      "averageRating\n",
      "numVotes\n",
      "directors\n",
      "writers\n",
      "genres\n"
     ]
    }
   ],
   "source": [
    "print(\"columns in my dataset are: \")\n",
    "for n in list(data.columns):\n",
    "  print(n)"
   ]
  },
  {
   "cell_type": "markdown",
   "id": "da1cd9b8",
   "metadata": {},
   "source": [
    "### Q3:\n",
    "Now, can you check how many missing values are there in each column?"
   ]
  },
  {
   "cell_type": "code",
   "execution_count": 7,
   "id": "1307b672",
   "metadata": {},
   "outputs": [
    {
     "name": "stdout",
     "output_type": "stream",
     "text": [
      "missing or null values in each of the columns are:\n",
      " tconst             0\n",
      "primaryTitle       0\n",
      "startYear          0\n",
      "endYear          847\n",
      "rank               0\n",
      "averageRating      0\n",
      "numVotes           0\n",
      "directors          0\n",
      "writers            0\n",
      "genres             0\n",
      "dtype: int64\n"
     ]
    }
   ],
   "source": [
    "print(\"missing or null values in each of the columns are:\\n\", data.isnull().sum())\n"
   ]
  },
  {
   "cell_type": "markdown",
   "id": "187afe7a",
   "metadata": {},
   "source": [
    "### Q4:\n",
    "Now, instead of just showing, can you try to count the total number of missing values in the whole dataset?"
   ]
  },
  {
   "cell_type": "code",
   "execution_count": 8,
   "id": "88e37fb0",
   "metadata": {},
   "outputs": [
    {
     "name": "stdout",
     "output_type": "stream",
     "text": [
      "total no of null or missing values in my data is:  847\n"
     ]
    }
   ],
   "source": [
    "print(\"total no of null or missing values in my data is: \",data.isnull().sum().sum())"
   ]
  },
  {
   "cell_type": "markdown",
   "id": "675ec0cb",
   "metadata": {},
   "source": [
    "### Q5:\n",
    "Print the data types of each column in your dataset."
   ]
  },
  {
   "cell_type": "code",
   "execution_count": 9,
   "id": "ec84bf5c",
   "metadata": {},
   "outputs": [
    {
     "name": "stdout",
     "output_type": "stream",
     "text": [
      "Datatypes of each column in my dataset are: \n",
      " tconst                  object\n",
      "primaryTitle            object\n",
      "startYear        period[Y-DEC]\n",
      "endYear          period[Y-DEC]\n",
      "rank                     int64\n",
      "averageRating          float64\n",
      "numVotes                 int64\n",
      "directors               object\n",
      "writers                 object\n",
      "genres                  object\n",
      "dtype: object\n"
     ]
    }
   ],
   "source": [
    "print(\"Datatypes of each column in my dataset are: \\n\",data.dtypes)"
   ]
  },
  {
   "cell_type": "markdown",
   "id": "c476248d",
   "metadata": {},
   "source": [
    "### Q6:\n",
    "Identify which columns in your dataset are categorical, which are numerical, and which are datetime."
   ]
  },
  {
   "cell_type": "code",
   "execution_count": 10,
   "id": "44f2d735",
   "metadata": {},
   "outputs": [
    {
     "name": "stdout",
     "output_type": "stream",
     "text": [
      "numerical columns:  ['rank', 'averageRating', 'numVotes']\n",
      "categorical columns:  ['tconst', 'primaryTitle', 'directors', 'writers', 'genres']\n",
      "datetime columns:  []\n"
     ]
    }
   ],
   "source": [
    "print(\"numerical columns: \",data.select_dtypes(include=['int64', 'float64', 'int32', 'float32']).columns.tolist())\n",
    "print(\"categorical columns: \",data.select_dtypes(include=['object', 'category']).columns.tolist())\n",
    "print(\"datetime columns: \",data.select_dtypes(include=['datetime64']).columns.tolist())"
   ]
  },
  {
   "cell_type": "code",
   "execution_count": 11,
   "id": "0990098c",
   "metadata": {},
   "outputs": [
    {
     "data": {
      "text/html": [
       "<div>\n",
       "<style scoped>\n",
       "    .dataframe tbody tr th:only-of-type {\n",
       "        vertical-align: middle;\n",
       "    }\n",
       "\n",
       "    .dataframe tbody tr th {\n",
       "        vertical-align: top;\n",
       "    }\n",
       "\n",
       "    .dataframe thead th {\n",
       "        text-align: right;\n",
       "    }\n",
       "</style>\n",
       "<table border=\"1\" class=\"dataframe\">\n",
       "  <thead>\n",
       "    <tr style=\"text-align: right;\">\n",
       "      <th></th>\n",
       "      <th>tconst</th>\n",
       "      <th>primaryTitle</th>\n",
       "      <th>startYear</th>\n",
       "      <th>endYear</th>\n",
       "      <th>rank</th>\n",
       "      <th>averageRating</th>\n",
       "      <th>numVotes</th>\n",
       "      <th>directors</th>\n",
       "      <th>writers</th>\n",
       "      <th>genres</th>\n",
       "    </tr>\n",
       "  </thead>\n",
       "  <tbody>\n",
       "    <tr>\n",
       "      <th>0</th>\n",
       "      <td>tt0903747</td>\n",
       "      <td>Breaking Bad</td>\n",
       "      <td>2008</td>\n",
       "      <td>2013</td>\n",
       "      <td>1</td>\n",
       "      <td>9.5</td>\n",
       "      <td>2384857</td>\n",
       "      <td>Michelle MacLaren, Adam Bernstein, Vince Gilli...</td>\n",
       "      <td>Vince Gilligan, Peter Gould, George Mastras, S...</td>\n",
       "      <td>Crime, Drama, Thriller</td>\n",
       "    </tr>\n",
       "    <tr>\n",
       "      <th>1</th>\n",
       "      <td>tt0185906</td>\n",
       "      <td>Band of Brothers</td>\n",
       "      <td>2001</td>\n",
       "      <td>2001</td>\n",
       "      <td>2</td>\n",
       "      <td>9.4</td>\n",
       "      <td>570504</td>\n",
       "      <td>David Frankel, Mikael Salomon, Tom Hanks, Davi...</td>\n",
       "      <td>Stephen Ambrose, Erik Bork, E. Max Frye, Tom H...</td>\n",
       "      <td>Action, Drama, History</td>\n",
       "    </tr>\n",
       "    <tr>\n",
       "      <th>2</th>\n",
       "      <td>tt7366338</td>\n",
       "      <td>Chernobyl</td>\n",
       "      <td>2019</td>\n",
       "      <td>2019</td>\n",
       "      <td>3</td>\n",
       "      <td>9.3</td>\n",
       "      <td>970478</td>\n",
       "      <td>Johan Renck</td>\n",
       "      <td>Craig Mazin</td>\n",
       "      <td>Drama, History, Thriller</td>\n",
       "    </tr>\n",
       "    <tr>\n",
       "      <th>3</th>\n",
       "      <td>tt0417299</td>\n",
       "      <td>Avatar: The Last Airbender</td>\n",
       "      <td>2005</td>\n",
       "      <td>2008</td>\n",
       "      <td>4</td>\n",
       "      <td>9.3</td>\n",
       "      <td>415015</td>\n",
       "      <td>Giancarlo Volpe, Ethan Spaulding, Lauren MacMu...</td>\n",
       "      <td>Michael Dante DiMartino, Bryan Konietzko, Aaro...</td>\n",
       "      <td>Action, Adventure, Animation</td>\n",
       "    </tr>\n",
       "    <tr>\n",
       "      <th>4</th>\n",
       "      <td>tt0306414</td>\n",
       "      <td>The Wire</td>\n",
       "      <td>2002</td>\n",
       "      <td>2008</td>\n",
       "      <td>5</td>\n",
       "      <td>9.3</td>\n",
       "      <td>410674</td>\n",
       "      <td>Joe Chappelle, Ernest R. Dickerson, Clark John...</td>\n",
       "      <td>David Simon, Ed Burns, Joy Kecken, Rafael Álva...</td>\n",
       "      <td>Crime, Drama, Thriller</td>\n",
       "    </tr>\n",
       "  </tbody>\n",
       "</table>\n",
       "</div>"
      ],
      "text/plain": [
       "      tconst                primaryTitle startYear endYear  rank  \\\n",
       "0  tt0903747                Breaking Bad      2008    2013     1   \n",
       "1  tt0185906            Band of Brothers      2001    2001     2   \n",
       "2  tt7366338                   Chernobyl      2019    2019     3   \n",
       "3  tt0417299  Avatar: The Last Airbender      2005    2008     4   \n",
       "4  tt0306414                    The Wire      2002    2008     5   \n",
       "\n",
       "   averageRating  numVotes                                          directors  \\\n",
       "0            9.5   2384857  Michelle MacLaren, Adam Bernstein, Vince Gilli...   \n",
       "1            9.4    570504  David Frankel, Mikael Salomon, Tom Hanks, Davi...   \n",
       "2            9.3    970478                                        Johan Renck   \n",
       "3            9.3    415015  Giancarlo Volpe, Ethan Spaulding, Lauren MacMu...   \n",
       "4            9.3    410674  Joe Chappelle, Ernest R. Dickerson, Clark John...   \n",
       "\n",
       "                                             writers  \\\n",
       "0  Vince Gilligan, Peter Gould, George Mastras, S...   \n",
       "1  Stephen Ambrose, Erik Bork, E. Max Frye, Tom H...   \n",
       "2                                        Craig Mazin   \n",
       "3  Michael Dante DiMartino, Bryan Konietzko, Aaro...   \n",
       "4  David Simon, Ed Burns, Joy Kecken, Rafael Álva...   \n",
       "\n",
       "                         genres  \n",
       "0        Crime, Drama, Thriller  \n",
       "1        Action, Drama, History  \n",
       "2      Drama, History, Thriller  \n",
       "3  Action, Adventure, Animation  \n",
       "4        Crime, Drama, Thriller  "
      ]
     },
     "execution_count": 11,
     "metadata": {},
     "output_type": "execute_result"
    }
   ],
   "source": [
    "data.head()"
   ]
  },
  {
   "cell_type": "markdown",
   "id": "14a447b7",
   "metadata": {},
   "source": [
    "### Q7.\n",
    "From your dataset, extract only those shows whose averageRating is greater than 9.0 and numVotes is more than 1 million."
   ]
  },
  {
   "cell_type": "code",
   "execution_count": 12,
   "id": "119aa88d",
   "metadata": {},
   "outputs": [
    {
     "data": {
      "text/html": [
       "<div>\n",
       "<style scoped>\n",
       "    .dataframe tbody tr th:only-of-type {\n",
       "        vertical-align: middle;\n",
       "    }\n",
       "\n",
       "    .dataframe tbody tr th {\n",
       "        vertical-align: top;\n",
       "    }\n",
       "\n",
       "    .dataframe thead th {\n",
       "        text-align: right;\n",
       "    }\n",
       "</style>\n",
       "<table border=\"1\" class=\"dataframe\">\n",
       "  <thead>\n",
       "    <tr style=\"text-align: right;\">\n",
       "      <th></th>\n",
       "      <th>tconst</th>\n",
       "      <th>primaryTitle</th>\n",
       "      <th>startYear</th>\n",
       "      <th>endYear</th>\n",
       "      <th>rank</th>\n",
       "      <th>averageRating</th>\n",
       "      <th>numVotes</th>\n",
       "      <th>directors</th>\n",
       "      <th>writers</th>\n",
       "      <th>genres</th>\n",
       "    </tr>\n",
       "  </thead>\n",
       "  <tbody>\n",
       "    <tr>\n",
       "      <th>0</th>\n",
       "      <td>tt0903747</td>\n",
       "      <td>Breaking Bad</td>\n",
       "      <td>2008</td>\n",
       "      <td>2013</td>\n",
       "      <td>1</td>\n",
       "      <td>9.5</td>\n",
       "      <td>2384857</td>\n",
       "      <td>Michelle MacLaren, Adam Bernstein, Vince Gilli...</td>\n",
       "      <td>Vince Gilligan, Peter Gould, George Mastras, S...</td>\n",
       "      <td>Crime, Drama, Thriller</td>\n",
       "    </tr>\n",
       "    <tr>\n",
       "      <th>7</th>\n",
       "      <td>tt0944947</td>\n",
       "      <td>Game of Thrones</td>\n",
       "      <td>2011</td>\n",
       "      <td>2019</td>\n",
       "      <td>8</td>\n",
       "      <td>9.2</td>\n",
       "      <td>2472062</td>\n",
       "      <td>David Nutter, Alan Taylor, Alex Graves, Miguel...</td>\n",
       "      <td>David Benioff, George R.R. Martin, D.B. Weiss,...</td>\n",
       "      <td>Action, Adventure, Drama</td>\n",
       "    </tr>\n",
       "  </tbody>\n",
       "</table>\n",
       "</div>"
      ],
      "text/plain": [
       "      tconst     primaryTitle startYear endYear  rank  averageRating  \\\n",
       "0  tt0903747     Breaking Bad      2008    2013     1            9.5   \n",
       "7  tt0944947  Game of Thrones      2011    2019     8            9.2   \n",
       "\n",
       "   numVotes                                          directors  \\\n",
       "0   2384857  Michelle MacLaren, Adam Bernstein, Vince Gilli...   \n",
       "7   2472062  David Nutter, Alan Taylor, Alex Graves, Miguel...   \n",
       "\n",
       "                                             writers                    genres  \n",
       "0  Vince Gilligan, Peter Gould, George Mastras, S...    Crime, Drama, Thriller  \n",
       "7  David Benioff, George R.R. Martin, D.B. Weiss,...  Action, Adventure, Drama  "
      ]
     },
     "execution_count": 12,
     "metadata": {},
     "output_type": "execute_result"
    }
   ],
   "source": [
    "data.loc[(data[\"averageRating\"] > 9.0) & (data[\"numVotes\"] > 1000000)]"
   ]
  },
  {
   "cell_type": "markdown",
   "id": "f955ea0d",
   "metadata": {},
   "source": [
    "### Q8. \n",
    "Find all the unique genres present in the dataset (not just the first value, but split the comma-separated list into unique individual genres)."
   ]
  },
  {
   "cell_type": "code",
   "execution_count": 13,
   "id": "5c31a351",
   "metadata": {},
   "outputs": [
    {
     "name": "stdout",
     "output_type": "stream",
     "text": [
      "All unique genres in dataset are:  ['Crime' 'Drama' 'Thriller' 'Action' 'History' 'Adventure' 'Animation'\n",
      " 'Documentary' 'Family' 'Biography' 'Mystery' 'Comedy' 'Romance' 'Sport'\n",
      " 'Sci-Fi' 'Fantasy' 'Horror' 'Reality-TV' 'News' 'Talk-Show' 'War'\n",
      " 'Western' 'Music' 'Game-Show' 'Musical' 'Short']\n"
     ]
    }
   ],
   "source": [
    "unique_genres = data[\"genres\"].str.split(\",\").explode().str.strip().unique()\n",
    "print(\"All unique genres in dataset are: \", unique_genres)"
   ]
  },
  {
   "cell_type": "markdown",
   "id": "0468c304",
   "metadata": {},
   "source": [
    "### Q9. \n",
    "Count how many shows belong to each individual genre (e.g., how many are “Crime,” how many are “Drama,” etc.)."
   ]
  },
  {
   "cell_type": "code",
   "execution_count": 14,
   "id": "98990f40",
   "metadata": {},
   "outputs": [
    {
     "data": {
      "text/plain": [
       "genres\n",
       "Drama          2639\n",
       "Comedy         1840\n",
       "Crime          1007\n",
       "Action          869\n",
       "Animation       818\n",
       "Adventure       774\n",
       "Romance         565\n",
       "Mystery         535\n",
       "Documentary     507\n",
       "History         348\n",
       "Fantasy         319\n",
       "Thriller        286\n",
       "Family          248\n",
       "Biography       210\n",
       "Horror          141\n",
       "Reality-TV      140\n",
       "Sci-Fi          134\n",
       "Music           113\n",
       "Sport           111\n",
       "War             102\n",
       "Game-Show        79\n",
       "Talk-Show        52\n",
       "Western          40\n",
       "News             26\n",
       "Short            26\n",
       "Musical          22\n",
       "Name: count, dtype: int64"
      ]
     },
     "execution_count": 14,
     "metadata": {},
     "output_type": "execute_result"
    }
   ],
   "source": [
    "data[\"genres\"].str.split(\",\").explode().str.strip().value_counts()"
   ]
  },
  {
   "cell_type": "markdown",
   "id": "56f1c4a7",
   "metadata": {},
   "source": [
    "### Q10. \n",
    "Find the top 5 shows with the highest number of votes (numVotes), but only display their primaryTitle, averageRating, and numVotes."
   ]
  },
  {
   "cell_type": "code",
   "execution_count": 15,
   "id": "b2457b25",
   "metadata": {},
   "outputs": [
    {
     "data": {
      "text/html": [
       "<div>\n",
       "<style scoped>\n",
       "    .dataframe tbody tr th:only-of-type {\n",
       "        vertical-align: middle;\n",
       "    }\n",
       "\n",
       "    .dataframe tbody tr th {\n",
       "        vertical-align: top;\n",
       "    }\n",
       "\n",
       "    .dataframe thead th {\n",
       "        text-align: right;\n",
       "    }\n",
       "</style>\n",
       "<table border=\"1\" class=\"dataframe\">\n",
       "  <thead>\n",
       "    <tr style=\"text-align: right;\">\n",
       "      <th></th>\n",
       "      <th>primaryTitle</th>\n",
       "      <th>averageRating</th>\n",
       "      <th>numVotes</th>\n",
       "    </tr>\n",
       "  </thead>\n",
       "  <tbody>\n",
       "    <tr>\n",
       "      <th>7</th>\n",
       "      <td>Game of Thrones</td>\n",
       "      <td>9.2</td>\n",
       "      <td>2472062</td>\n",
       "    </tr>\n",
       "    <tr>\n",
       "      <th>0</th>\n",
       "      <td>Breaking Bad</td>\n",
       "      <td>9.5</td>\n",
       "      <td>2384857</td>\n",
       "    </tr>\n",
       "    <tr>\n",
       "      <th>70</th>\n",
       "      <td>Stranger Things</td>\n",
       "      <td>8.6</td>\n",
       "      <td>1478495</td>\n",
       "    </tr>\n",
       "    <tr>\n",
       "      <th>20</th>\n",
       "      <td>Friends</td>\n",
       "      <td>8.9</td>\n",
       "      <td>1158004</td>\n",
       "    </tr>\n",
       "    <tr>\n",
       "      <th>370</th>\n",
       "      <td>The Walking Dead</td>\n",
       "      <td>8.1</td>\n",
       "      <td>1157879</td>\n",
       "    </tr>\n",
       "  </tbody>\n",
       "</table>\n",
       "</div>"
      ],
      "text/plain": [
       "         primaryTitle  averageRating  numVotes\n",
       "7     Game of Thrones            9.2   2472062\n",
       "0        Breaking Bad            9.5   2384857\n",
       "70    Stranger Things            8.6   1478495\n",
       "20            Friends            8.9   1158004\n",
       "370  The Walking Dead            8.1   1157879"
      ]
     },
     "execution_count": 15,
     "metadata": {},
     "output_type": "execute_result"
    }
   ],
   "source": [
    "data.loc[data[\"numVotes\"].nlargest(5).index,[\"primaryTitle\",\"averageRating\",'numVotes']]"
   ]
  },
  {
   "cell_type": "markdown",
   "id": "b5b97c28",
   "metadata": {},
   "source": [
    "### Q11. \n",
    "Find the average IMDb rating (averageRating) for each genre (treating genres separately, not as comma-joined strings)."
   ]
  },
  {
   "cell_type": "code",
   "execution_count": 16,
   "id": "abd0c6c2",
   "metadata": {},
   "outputs": [
    {
     "data": {
      "text/plain": [
       "genre\n",
       "News           8.328571\n",
       "War            8.094118\n",
       "Western        8.080000\n",
       "Documentary    8.041830\n",
       "Sport          8.039535\n",
       "Short          8.033333\n",
       "Crime          8.023128\n",
       "Action         8.023041\n",
       "Drama          8.012533\n",
       "Horror         8.003226\n",
       "Fantasy        7.995556\n",
       "Animation      7.994663\n",
       "Adventure      7.994490\n",
       "Game-Show      7.988889\n",
       "Family         7.977778\n",
       "Mystery        7.974569\n",
       "Thriller       7.972932\n",
       "History        7.963636\n",
       "Sci-Fi         7.955738\n",
       "Comedy         7.954018\n",
       "Romance        7.951563\n",
       "Biography      7.945882\n",
       "Reality-TV     7.933333\n",
       "Talk-Show      7.913043\n",
       "Musical        7.907692\n",
       "Music          7.832432\n",
       "Name: averageRating, dtype: float64"
      ]
     },
     "execution_count": 16,
     "metadata": {},
     "output_type": "execute_result"
    }
   ],
   "source": [
    "df = data.assign(genre=data[\"genres\"].str.split(',').explode(\"genre\"))\n",
    "df[\"genre\"]=df[\"genre\"].str.strip()\n",
    "df.groupby(\"genre\")[\"averageRating\"].mean().sort_values(ascending=False)"
   ]
  },
  {
   "cell_type": "markdown",
   "id": "363a9590",
   "metadata": {},
   "source": [
    "### Q12. \n",
    "For each director, calculate the average rating of the shows they directed, and then list the top 10 directors by average rating (consider only those with at least 2 shows in the dataset)."
   ]
  },
  {
   "cell_type": "code",
   "execution_count": 17,
   "id": "c5dd9c88",
   "metadata": {},
   "outputs": [
    {
     "data": {
      "text/html": [
       "<div>\n",
       "<style scoped>\n",
       "    .dataframe tbody tr th:only-of-type {\n",
       "        vertical-align: middle;\n",
       "    }\n",
       "\n",
       "    .dataframe tbody tr th {\n",
       "        vertical-align: top;\n",
       "    }\n",
       "\n",
       "    .dataframe thead th {\n",
       "        text-align: right;\n",
       "    }\n",
       "</style>\n",
       "<table border=\"1\" class=\"dataframe\">\n",
       "  <thead>\n",
       "    <tr style=\"text-align: right;\">\n",
       "      <th></th>\n",
       "      <th>director</th>\n",
       "      <th>averageRating</th>\n",
       "    </tr>\n",
       "  </thead>\n",
       "  <tbody>\n",
       "    <tr>\n",
       "      <th>0</th>\n",
       "      <td>Fredi devas</td>\n",
       "      <td>9.350000</td>\n",
       "    </tr>\n",
       "    <tr>\n",
       "      <th>1</th>\n",
       "      <td>Thomas schnauz</td>\n",
       "      <td>9.250000</td>\n",
       "    </tr>\n",
       "    <tr>\n",
       "      <th>2</th>\n",
       "      <td>Chadden hunter</td>\n",
       "      <td>9.200000</td>\n",
       "    </tr>\n",
       "    <tr>\n",
       "      <th>3</th>\n",
       "      <td>Ed charles</td>\n",
       "      <td>9.200000</td>\n",
       "    </tr>\n",
       "    <tr>\n",
       "      <th>4</th>\n",
       "      <td>Emma napper</td>\n",
       "      <td>9.200000</td>\n",
       "    </tr>\n",
       "    <tr>\n",
       "      <th>5</th>\n",
       "      <td>Mark linfield</td>\n",
       "      <td>9.166667</td>\n",
       "    </tr>\n",
       "    <tr>\n",
       "      <th>6</th>\n",
       "      <td>Ann druyan</td>\n",
       "      <td>9.100000</td>\n",
       "    </tr>\n",
       "    <tr>\n",
       "      <th>7</th>\n",
       "      <td>Huw cordey</td>\n",
       "      <td>9.100000</td>\n",
       "    </tr>\n",
       "    <tr>\n",
       "      <th>8</th>\n",
       "      <td>Rosie thomas</td>\n",
       "      <td>9.100000</td>\n",
       "    </tr>\n",
       "    <tr>\n",
       "      <th>9</th>\n",
       "      <td>Adrian malone</td>\n",
       "      <td>9.050000</td>\n",
       "    </tr>\n",
       "  </tbody>\n",
       "</table>\n",
       "</div>"
      ],
      "text/plain": [
       "         director  averageRating\n",
       "0     Fredi devas       9.350000\n",
       "1  Thomas schnauz       9.250000\n",
       "2  Chadden hunter       9.200000\n",
       "3      Ed charles       9.200000\n",
       "4     Emma napper       9.200000\n",
       "5   Mark linfield       9.166667\n",
       "6      Ann druyan       9.100000\n",
       "7      Huw cordey       9.100000\n",
       "8    Rosie thomas       9.100000\n",
       "9   Adrian malone       9.050000"
      ]
     },
     "execution_count": 17,
     "metadata": {},
     "output_type": "execute_result"
    }
   ],
   "source": [
    "df = data.assign(director=data[\"directors\"].str.split(\",\")).explode(\"director\")\n",
    "df[\"director\"] = df[\"director\"].str.strip().str.lower()\n",
    "result = (\n",
    "    df.groupby(\"director\")\n",
    "    .filter(lambda x: len(x) >= 2)\n",
    "    .groupby(\"director\")[\"averageRating\"]\n",
    "    .mean()\n",
    "    .nlargest(10)\n",
    "    .reset_index()\n",
    ")\n",
    "result[\"director\"] = result[\"director\"].str.capitalize()\n",
    "result"
   ]
  },
  {
   "cell_type": "markdown",
   "id": "e9e9032a",
   "metadata": {},
   "source": [
    "### Q13. \n",
    "Find the most common pairings of directors and writers (i.e., which director–writer combinations occur most frequently in the dataset)"
   ]
  },
  {
   "cell_type": "code",
   "execution_count": 44,
   "id": "d728e123",
   "metadata": {},
   "outputs": [
    {
     "data": {
      "text/html": [
       "<div>\n",
       "<style scoped>\n",
       "    .dataframe tbody tr th:only-of-type {\n",
       "        vertical-align: middle;\n",
       "    }\n",
       "\n",
       "    .dataframe tbody tr th {\n",
       "        vertical-align: top;\n",
       "    }\n",
       "\n",
       "    .dataframe thead th {\n",
       "        text-align: right;\n",
       "    }\n",
       "</style>\n",
       "<table border=\"1\" class=\"dataframe\">\n",
       "  <thead>\n",
       "    <tr style=\"text-align: right;\">\n",
       "      <th></th>\n",
       "      <th>director</th>\n",
       "      <th>writer</th>\n",
       "      <th>Shows togather</th>\n",
       "    </tr>\n",
       "  </thead>\n",
       "  <tbody>\n",
       "    <tr>\n",
       "      <th>0</th>\n",
       "      <td>Herschel Daugherty</td>\n",
       "      <td>Dick Nelson</td>\n",
       "      <td>9</td>\n",
       "    </tr>\n",
       "  </tbody>\n",
       "</table>\n",
       "</div>"
      ],
      "text/plain": [
       "             director       writer  Shows togather\n",
       "0  Herschel Daugherty  Dick Nelson               9"
      ]
     },
     "execution_count": 44,
     "metadata": {},
     "output_type": "execute_result"
    }
   ],
   "source": [
    "df = (\n",
    "    data.assign(\n",
    "        director=data[\"directors\"].str.split(\",\"), writer=data[\"writers\"].str.split(\",\")\n",
    "    )\n",
    "    .explode(\"director\")\n",
    "    .explode(\"writer\")\n",
    ")\n",
    "df[\"director\"] = df[\"director\"].str.strip().str.lower()\n",
    "df[\"writer\"] = df[\"writer\"].str.strip().str.lower()\n",
    "\n",
    "valid_data = df[\n",
    "    ~df[\"director\"].isin([\"-\", \"\", None]) & ~df[\"writer\"].isin([\"-\", \"\", None])\n",
    "]\n",
    "top_combination = (\n",
    "    valid_data.groupby([\"director\", \"writer\"])\n",
    "    .size()\n",
    "    .nlargest(1)\n",
    "    .reset_index(name=\"Shows togather\")\n",
    ")\n",
    "top_combination[\"director\"] = top_combination[\"director\"].str.title()\n",
    "top_combination[\"writer\"] = top_combination[\"writer\"].str.title()\n",
    "top_combination\n",
    "\n",
    "\n",
    "# output will be:\n",
    "#   director\t        writer\t        Shows togather\n",
    "# 0\tHerschel Daugherty\tDick Nelson\t    9\n"
   ]
  },
  {
   "cell_type": "markdown",
   "id": "2954b272",
   "metadata": {},
   "source": [
    "### Q14.\n",
    "Find the year with the highest average rating across all shows. If there are ties, list all such years."
   ]
  },
  {
   "cell_type": "code",
   "execution_count": 19,
   "id": "12feeb36",
   "metadata": {},
   "outputs": [
    {
     "data": {
      "text/html": [
       "<div>\n",
       "<style scoped>\n",
       "    .dataframe tbody tr th:only-of-type {\n",
       "        vertical-align: middle;\n",
       "    }\n",
       "\n",
       "    .dataframe tbody tr th {\n",
       "        vertical-align: top;\n",
       "    }\n",
       "\n",
       "    .dataframe thead th {\n",
       "        text-align: right;\n",
       "    }\n",
       "</style>\n",
       "<table border=\"1\" class=\"dataframe\">\n",
       "  <thead>\n",
       "    <tr style=\"text-align: right;\">\n",
       "      <th></th>\n",
       "      <th>startYear</th>\n",
       "      <th>avg_rating</th>\n",
       "    </tr>\n",
       "  </thead>\n",
       "  <tbody>\n",
       "    <tr>\n",
       "      <th>0</th>\n",
       "      <td>1950</td>\n",
       "      <td>8.533333</td>\n",
       "    </tr>\n",
       "  </tbody>\n",
       "</table>\n",
       "</div>"
      ],
      "text/plain": [
       "  startYear  avg_rating\n",
       "0      1950    8.533333"
      ]
     },
     "execution_count": 19,
     "metadata": {},
     "output_type": "execute_result"
    }
   ],
   "source": [
    "data.groupby(\"startYear\")[\"averageRating\"].mean().nlargest(1).reset_index(\n",
    "    name=\"avg_rating\"\n",
    ")"
   ]
  },
  {
   "cell_type": "markdown",
   "id": "d8ebccb3",
   "metadata": {},
   "source": [
    "### Q15. \n",
    "Find the show(s) with the longest run (difference between endYear and startYear)"
   ]
  },
  {
   "cell_type": "code",
   "execution_count": 20,
   "id": "431db6a2",
   "metadata": {},
   "outputs": [
    {
     "data": {
      "text/plain": [
       "tconst                                                   tt0234355\n",
       "primaryTitle                                  Well, Just You Wait!\n",
       "startYear                                                     1969\n",
       "endYear                                                       2017\n",
       "rank                                                          1196\n",
       "averageRating                                                  8.5\n",
       "numVotes                                                      6870\n",
       "directors        Vyacheslav Kotyonochkin, Aleksey Kotyonochkin,...\n",
       "writers          Aleksandr Kurlyandskiy, Arkadiy Khayt, Feliks ...\n",
       "genres                                Action, Adventure, Animation\n",
       "Name: 1195, dtype: object"
      ]
     },
     "execution_count": 20,
     "metadata": {},
     "output_type": "execute_result"
    }
   ],
   "source": [
    "data.loc[(data[\"endYear\"].dt.year - data[\"startYear\"].dt.year).idxmax()]"
   ]
  },
  {
   "cell_type": "markdown",
   "id": "c1e5d9e0",
   "metadata": {},
   "source": [
    "### Q16. \n",
    "Find the top 5 shows with the highest “votes per year of run”.\n",
    "👉 Formula = numVotes / (endYear - startYear + 1)"
   ]
  },
  {
   "cell_type": "code",
   "execution_count": 21,
   "id": "edb0b353",
   "metadata": {},
   "outputs": [
    {
     "data": {
      "text/html": [
       "<div>\n",
       "<style scoped>\n",
       "    .dataframe tbody tr th:only-of-type {\n",
       "        vertical-align: middle;\n",
       "    }\n",
       "\n",
       "    .dataframe tbody tr th {\n",
       "        vertical-align: top;\n",
       "    }\n",
       "\n",
       "    .dataframe thead th {\n",
       "        text-align: right;\n",
       "    }\n",
       "</style>\n",
       "<table border=\"1\" class=\"dataframe\">\n",
       "  <thead>\n",
       "    <tr style=\"text-align: right;\">\n",
       "      <th></th>\n",
       "      <th>tconst</th>\n",
       "      <th>primaryTitle</th>\n",
       "      <th>startYear</th>\n",
       "      <th>endYear</th>\n",
       "      <th>rank</th>\n",
       "      <th>averageRating</th>\n",
       "      <th>numVotes</th>\n",
       "      <th>directors</th>\n",
       "      <th>writers</th>\n",
       "      <th>genres</th>\n",
       "    </tr>\n",
       "  </thead>\n",
       "  <tbody>\n",
       "    <tr>\n",
       "      <th>2</th>\n",
       "      <td>tt7366338</td>\n",
       "      <td>Chernobyl</td>\n",
       "      <td>2019</td>\n",
       "      <td>2019</td>\n",
       "      <td>3</td>\n",
       "      <td>9.3</td>\n",
       "      <td>970478</td>\n",
       "      <td>Johan Renck</td>\n",
       "      <td>Craig Mazin</td>\n",
       "      <td>Drama, History, Thriller</td>\n",
       "    </tr>\n",
       "    <tr>\n",
       "      <th>118</th>\n",
       "      <td>tt10048342</td>\n",
       "      <td>The Queen's Gambit</td>\n",
       "      <td>2020</td>\n",
       "      <td>2020</td>\n",
       "      <td>119</td>\n",
       "      <td>8.5</td>\n",
       "      <td>630269</td>\n",
       "      <td>Scott Frank</td>\n",
       "      <td>Scott Frank, Allan Scott, Walter Tevis</td>\n",
       "      <td>Drama</td>\n",
       "    </tr>\n",
       "    <tr>\n",
       "      <th>1</th>\n",
       "      <td>tt0185906</td>\n",
       "      <td>Band of Brothers</td>\n",
       "      <td>2001</td>\n",
       "      <td>2001</td>\n",
       "      <td>2</td>\n",
       "      <td>9.4</td>\n",
       "      <td>570504</td>\n",
       "      <td>David Frankel, Mikael Salomon, Tom Hanks, Davi...</td>\n",
       "      <td>Stephen Ambrose, Erik Bork, E. Max Frye, Tom H...</td>\n",
       "      <td>Action, Drama, History</td>\n",
       "    </tr>\n",
       "    <tr>\n",
       "      <th>626</th>\n",
       "      <td>tt9140560</td>\n",
       "      <td>WandaVision</td>\n",
       "      <td>2021</td>\n",
       "      <td>2021</td>\n",
       "      <td>627</td>\n",
       "      <td>7.9</td>\n",
       "      <td>403165</td>\n",
       "      <td>Matt Shakman</td>\n",
       "      <td>John Buscema, Peter Cameron, Mackenzie Dohr, L...</td>\n",
       "      <td>Action, Comedy, Fantasy</td>\n",
       "    </tr>\n",
       "    <tr>\n",
       "      <th>0</th>\n",
       "      <td>tt0903747</td>\n",
       "      <td>Breaking Bad</td>\n",
       "      <td>2008</td>\n",
       "      <td>2013</td>\n",
       "      <td>1</td>\n",
       "      <td>9.5</td>\n",
       "      <td>2384857</td>\n",
       "      <td>Michelle MacLaren, Adam Bernstein, Vince Gilli...</td>\n",
       "      <td>Vince Gilligan, Peter Gould, George Mastras, S...</td>\n",
       "      <td>Crime, Drama, Thriller</td>\n",
       "    </tr>\n",
       "  </tbody>\n",
       "</table>\n",
       "</div>"
      ],
      "text/plain": [
       "         tconst        primaryTitle startYear endYear  rank  averageRating  \\\n",
       "2     tt7366338           Chernobyl      2019    2019     3            9.3   \n",
       "118  tt10048342  The Queen's Gambit      2020    2020   119            8.5   \n",
       "1     tt0185906    Band of Brothers      2001    2001     2            9.4   \n",
       "626   tt9140560         WandaVision      2021    2021   627            7.9   \n",
       "0     tt0903747        Breaking Bad      2008    2013     1            9.5   \n",
       "\n",
       "     numVotes                                          directors  \\\n",
       "2      970478                                        Johan Renck   \n",
       "118    630269                                        Scott Frank   \n",
       "1      570504  David Frankel, Mikael Salomon, Tom Hanks, Davi...   \n",
       "626    403165                                       Matt Shakman   \n",
       "0     2384857  Michelle MacLaren, Adam Bernstein, Vince Gilli...   \n",
       "\n",
       "                                               writers  \\\n",
       "2                                          Craig Mazin   \n",
       "118             Scott Frank, Allan Scott, Walter Tevis   \n",
       "1    Stephen Ambrose, Erik Bork, E. Max Frye, Tom H...   \n",
       "626  John Buscema, Peter Cameron, Mackenzie Dohr, L...   \n",
       "0    Vince Gilligan, Peter Gould, George Mastras, S...   \n",
       "\n",
       "                       genres  \n",
       "2    Drama, History, Thriller  \n",
       "118                     Drama  \n",
       "1      Action, Drama, History  \n",
       "626   Action, Comedy, Fantasy  \n",
       "0      Crime, Drama, Thriller  "
      ]
     },
     "execution_count": 21,
     "metadata": {},
     "output_type": "execute_result"
    }
   ],
   "source": [
    "data.loc[(data[\"numVotes\"]/(data[\"endYear\"].dt.year - data[\"startYear\"].dt.year +1)).nlargest(5).index]"
   ]
  },
  {
   "cell_type": "markdown",
   "id": "218d89fd",
   "metadata": {},
   "source": [
    "### Q17. \n",
    "Find the most popular genre combination (the exact genres string, not individual genres) based on the highest average numVotes."
   ]
  },
  {
   "cell_type": "code",
   "execution_count": 22,
   "id": "e0cb57d1",
   "metadata": {},
   "outputs": [
    {
     "data": {
      "text/html": [
       "<div>\n",
       "<style scoped>\n",
       "    .dataframe tbody tr th:only-of-type {\n",
       "        vertical-align: middle;\n",
       "    }\n",
       "\n",
       "    .dataframe tbody tr th {\n",
       "        vertical-align: top;\n",
       "    }\n",
       "\n",
       "    .dataframe thead th {\n",
       "        text-align: right;\n",
       "    }\n",
       "</style>\n",
       "<table border=\"1\" class=\"dataframe\">\n",
       "  <thead>\n",
       "    <tr style=\"text-align: right;\">\n",
       "      <th></th>\n",
       "      <th>genres</th>\n",
       "      <th>num of votes</th>\n",
       "    </tr>\n",
       "  </thead>\n",
       "  <tbody>\n",
       "    <tr>\n",
       "      <th>0</th>\n",
       "      <td>Action, Comedy, Fantasy</td>\n",
       "      <td>403165.0</td>\n",
       "    </tr>\n",
       "  </tbody>\n",
       "</table>\n",
       "</div>"
      ],
      "text/plain": [
       "                    genres  num of votes\n",
       "0  Action, Comedy, Fantasy      403165.0"
      ]
     },
     "execution_count": 22,
     "metadata": {},
     "output_type": "execute_result"
    }
   ],
   "source": [
    "data.groupby(\"genres\")[\"numVotes\"].mean().nlargest(1).reset_index(name=\"num of votes\")"
   ]
  },
  {
   "cell_type": "markdown",
   "id": "729e924d",
   "metadata": {},
   "source": [
    "### Q18. \n",
    "Find the writer who has written shows across the widest range of years (i.e., max(endYear) - min(startYear) for each writer). List their name and the span of years."
   ]
  },
  {
   "cell_type": "code",
   "execution_count": 23,
   "id": "0999b2d0",
   "metadata": {},
   "outputs": [
    {
     "data": {
      "text/html": [
       "<div>\n",
       "<style scoped>\n",
       "    .dataframe tbody tr th:only-of-type {\n",
       "        vertical-align: middle;\n",
       "    }\n",
       "\n",
       "    .dataframe tbody tr th {\n",
       "        vertical-align: top;\n",
       "    }\n",
       "\n",
       "    .dataframe thead th {\n",
       "        text-align: right;\n",
       "    }\n",
       "</style>\n",
       "<table border=\"1\" class=\"dataframe\">\n",
       "  <thead>\n",
       "    <tr style=\"text-align: right;\">\n",
       "      <th></th>\n",
       "      <th>start_min</th>\n",
       "      <th>end_max</th>\n",
       "      <th>span</th>\n",
       "    </tr>\n",
       "    <tr>\n",
       "      <th>writer</th>\n",
       "      <th></th>\n",
       "      <th></th>\n",
       "      <th></th>\n",
       "    </tr>\n",
       "  </thead>\n",
       "  <tbody>\n",
       "    <tr>\n",
       "      <th>arthur phillips</th>\n",
       "      <td>1951</td>\n",
       "      <td>2024</td>\n",
       "      <td>73</td>\n",
       "    </tr>\n",
       "  </tbody>\n",
       "</table>\n",
       "</div>"
      ],
      "text/plain": [
       "                 start_min  end_max  span\n",
       "writer                                   \n",
       "arthur phillips       1951     2024    73"
      ]
     },
     "execution_count": 23,
     "metadata": {},
     "output_type": "execute_result"
    }
   ],
   "source": [
    "df = data.assign(writer=data[\"writers\"].str.split(\",\")).explode(\"writer\")\n",
    "df[\"writer\"] = df[\"writer\"].str.strip().str.lower()\n",
    "\n",
    "df = df[df[\"writer\"] != \"-\"].dropna(subset=[\"writer\"])\n",
    "\n",
    "(\n",
    "    df.groupby(\"writer\")\n",
    "    .agg(\n",
    "        start_min=(\"startYear\", lambda x: x.dt.year.min()),\n",
    "        end_max=(\"endYear\", lambda x: x.dt.year.max()),\n",
    "    )\n",
    "    .assign(span=lambda x: x[\"end_max\"] - x[\"start_min\"])\n",
    "    .nlargest(1, \"span\")\n",
    ")"
   ]
  },
  {
   "cell_type": "markdown",
   "id": "2a1b95ef",
   "metadata": {},
   "source": [
    "### Q19. \n",
    "For each genre, calculate the total number of votes (numVotes) received by all shows in that genre (counting multi-genre shows toward each of their genres). Then find the top 3 genres by total votes."
   ]
  },
  {
   "cell_type": "code",
   "execution_count": 24,
   "id": "5e99e1a3",
   "metadata": {},
   "outputs": [
    {
     "data": {
      "text/html": [
       "<div>\n",
       "<style scoped>\n",
       "    .dataframe tbody tr th:only-of-type {\n",
       "        vertical-align: middle;\n",
       "    }\n",
       "\n",
       "    .dataframe tbody tr th {\n",
       "        vertical-align: top;\n",
       "    }\n",
       "\n",
       "    .dataframe thead th {\n",
       "        text-align: right;\n",
       "    }\n",
       "</style>\n",
       "<table border=\"1\" class=\"dataframe\">\n",
       "  <thead>\n",
       "    <tr style=\"text-align: right;\">\n",
       "      <th></th>\n",
       "      <th>genre</th>\n",
       "      <th>numVotes</th>\n",
       "    </tr>\n",
       "  </thead>\n",
       "  <tbody>\n",
       "    <tr>\n",
       "      <th>0</th>\n",
       "      <td>drama</td>\n",
       "      <td>95580733</td>\n",
       "    </tr>\n",
       "    <tr>\n",
       "      <th>1</th>\n",
       "      <td>comedy</td>\n",
       "      <td>43678651</td>\n",
       "    </tr>\n",
       "    <tr>\n",
       "      <th>2</th>\n",
       "      <td>crime</td>\n",
       "      <td>42284322</td>\n",
       "    </tr>\n",
       "  </tbody>\n",
       "</table>\n",
       "</div>"
      ],
      "text/plain": [
       "    genre  numVotes\n",
       "0   drama  95580733\n",
       "1  comedy  43678651\n",
       "2   crime  42284322"
      ]
     },
     "execution_count": 24,
     "metadata": {},
     "output_type": "execute_result"
    }
   ],
   "source": [
    "df = data.assign(genre=data[\"genres\"].str.split(\",\")).explode(\"genre\")\n",
    "df[\"genre\"] = df[\"genre\"].str.strip().str.lower()\n",
    "\n",
    "df.groupby(\"genre\")[\"numVotes\"].sum().nlargest(3).reset_index()"
   ]
  },
  {
   "cell_type": "markdown",
   "id": "1ce6ee96",
   "metadata": {},
   "source": [
    "### Q20. \n",
    "Find the director who has directed the most shows with an average rating above 9.0. Show their name and the count of such shows."
   ]
  },
  {
   "cell_type": "code",
   "execution_count": 25,
   "id": "16429339",
   "metadata": {},
   "outputs": [
    {
     "data": {
      "text/html": [
       "<div>\n",
       "<style scoped>\n",
       "    .dataframe tbody tr th:only-of-type {\n",
       "        vertical-align: middle;\n",
       "    }\n",
       "\n",
       "    .dataframe tbody tr th {\n",
       "        vertical-align: top;\n",
       "    }\n",
       "\n",
       "    .dataframe thead th {\n",
       "        text-align: right;\n",
       "    }\n",
       "</style>\n",
       "<table border=\"1\" class=\"dataframe\">\n",
       "  <thead>\n",
       "    <tr style=\"text-align: right;\">\n",
       "      <th></th>\n",
       "      <th>director</th>\n",
       "      <th>no of count</th>\n",
       "    </tr>\n",
       "  </thead>\n",
       "  <tbody>\n",
       "    <tr>\n",
       "      <th>0</th>\n",
       "      <td>Emma Napper</td>\n",
       "      <td>4</td>\n",
       "    </tr>\n",
       "  </tbody>\n",
       "</table>\n",
       "</div>"
      ],
      "text/plain": [
       "      director  no of count\n",
       "0  Emma Napper            4"
      ]
     },
     "execution_count": 25,
     "metadata": {},
     "output_type": "execute_result"
    }
   ],
   "source": [
    "df = data.assign(director=data[\"directors\"].str.split(\",\")).explode(\"director\")\n",
    "df[\"director\"] = df[\"director\"].str.strip()\n",
    "\n",
    "df = df[df[\"director\"] != \"-\"].dropna(subset=[\"director\"])\n",
    "\n",
    "(df[df[\"averageRating\"]>=9.0].groupby(\"director\")[\"averageRating\"].size().nlargest(1).reset_index(name=\"no of count\"))"
   ]
  },
  {
   "cell_type": "markdown",
   "id": "420a3cb5",
   "metadata": {},
   "source": [
    "### Q21. \n",
    "For each decade (e.g., 1950s, 1960s, …, 2010s), find the average rating of shows started in that decade. Then list the top 3 decades with the highest average rating."
   ]
  },
  {
   "cell_type": "code",
   "execution_count": 26,
   "id": "be070f08",
   "metadata": {},
   "outputs": [
    {
     "data": {
      "text/html": [
       "<div>\n",
       "<style scoped>\n",
       "    .dataframe tbody tr th:only-of-type {\n",
       "        vertical-align: middle;\n",
       "    }\n",
       "\n",
       "    .dataframe tbody tr th {\n",
       "        vertical-align: top;\n",
       "    }\n",
       "\n",
       "    .dataframe thead th {\n",
       "        text-align: right;\n",
       "    }\n",
       "</style>\n",
       "<table border=\"1\" class=\"dataframe\">\n",
       "  <thead>\n",
       "    <tr style=\"text-align: right;\">\n",
       "      <th></th>\n",
       "      <th>decade</th>\n",
       "      <th>averageRating</th>\n",
       "    </tr>\n",
       "  </thead>\n",
       "  <tbody>\n",
       "    <tr>\n",
       "      <th>0</th>\n",
       "      <td>1970</td>\n",
       "      <td>8.136646</td>\n",
       "    </tr>\n",
       "    <tr>\n",
       "      <th>1</th>\n",
       "      <td>1980</td>\n",
       "      <td>8.109016</td>\n",
       "    </tr>\n",
       "    <tr>\n",
       "      <th>2</th>\n",
       "      <td>1990</td>\n",
       "      <td>8.091241</td>\n",
       "    </tr>\n",
       "  </tbody>\n",
       "</table>\n",
       "</div>"
      ],
      "text/plain": [
       "   decade  averageRating\n",
       "0    1970       8.136646\n",
       "1    1980       8.109016\n",
       "2    1990       8.091241"
      ]
     },
     "execution_count": 26,
     "metadata": {},
     "output_type": "execute_result"
    }
   ],
   "source": [
    "data[\"decade\"] = (data[\"startYear\"].dt.year //10 )*10\n",
    "\n",
    "data.groupby(\"decade\")[\"averageRating\"].mean().nlargest(3).reset_index()"
   ]
  },
  {
   "cell_type": "markdown",
   "id": "d121f778",
   "metadata": {},
   "source": [
    "### Q22. \n",
    "Find the writer–director pair (same person being both writer and director) who has achieved the highest average rating across their shows. List their name and the average rating"
   ]
  },
  {
   "cell_type": "code",
   "execution_count": 27,
   "id": "0a4bda11",
   "metadata": {},
   "outputs": [
    {
     "data": {
      "text/html": [
       "<div>\n",
       "<style scoped>\n",
       "    .dataframe tbody tr th:only-of-type {\n",
       "        vertical-align: middle;\n",
       "    }\n",
       "\n",
       "    .dataframe tbody tr th {\n",
       "        vertical-align: top;\n",
       "    }\n",
       "\n",
       "    .dataframe thead th {\n",
       "        text-align: right;\n",
       "    }\n",
       "</style>\n",
       "<table border=\"1\" class=\"dataframe\">\n",
       "  <thead>\n",
       "    <tr style=\"text-align: right;\">\n",
       "      <th></th>\n",
       "      <th>writer</th>\n",
       "      <th>director</th>\n",
       "      <th>averageRating</th>\n",
       "    </tr>\n",
       "  </thead>\n",
       "  <tbody>\n",
       "    <tr>\n",
       "      <th>0</th>\n",
       "      <td>Gunnam Gangaraju</td>\n",
       "      <td>Gunnam Gangaraju</td>\n",
       "      <td>9.6</td>\n",
       "    </tr>\n",
       "  </tbody>\n",
       "</table>\n",
       "</div>"
      ],
      "text/plain": [
       "             writer          director  averageRating\n",
       "0  Gunnam Gangaraju  Gunnam Gangaraju            9.6"
      ]
     },
     "execution_count": 27,
     "metadata": {},
     "output_type": "execute_result"
    }
   ],
   "source": [
    "df = (\n",
    "    data.assign(\n",
    "        writer=data[\"writers\"].str.split(\",\"),\n",
    "        director=data[\"directors\"].str.split(\",\")  \n",
    "    )\n",
    "    .explode(\"writer\")\n",
    "    .explode(\"director\")\n",
    ")\n",
    "\n",
    "df[\"writer\"] = df[\"writer\"].str.strip()\n",
    "df[\"director\"] = df[\"director\"].str.strip()\n",
    "\n",
    "valid_data = df[\n",
    "    ~df[\"director\"].isin([\"-\", \"\", None]) & \n",
    "    ~df[\"writer\"].isin([\"-\", \"\", None]) & \n",
    "    (df[\"writer\"] == df[\"director\"])\n",
    "]\n",
    "\n",
    "\n",
    "(valid_data.groupby([\"writer\", \"director\"])[\"averageRating\"]\n",
    "          .mean()\n",
    "          .nlargest(1)\n",
    "          .reset_index())\n",
    "\n"
   ]
  },
  {
   "cell_type": "markdown",
   "id": "99d5a13b",
   "metadata": {},
   "source": [
    "### Q23. \n",
    "For each genre, find the show with the highest number of votes. List genre, primaryTitle, and numVotes."
   ]
  },
  {
   "cell_type": "code",
   "execution_count": null,
   "id": "0e225e6f",
   "metadata": {},
   "outputs": [
    {
     "data": {
      "text/html": [
       "<div>\n",
       "<style scoped>\n",
       "    .dataframe tbody tr th:only-of-type {\n",
       "        vertical-align: middle;\n",
       "    }\n",
       "\n",
       "    .dataframe tbody tr th {\n",
       "        vertical-align: top;\n",
       "    }\n",
       "\n",
       "    .dataframe thead th {\n",
       "        text-align: right;\n",
       "    }\n",
       "</style>\n",
       "<table border=\"1\" class=\"dataframe\">\n",
       "  <thead>\n",
       "    <tr style=\"text-align: right;\">\n",
       "      <th></th>\n",
       "      <th>genre</th>\n",
       "      <th>primaryTitle</th>\n",
       "      <th>numVotes</th>\n",
       "    </tr>\n",
       "  </thead>\n",
       "  <tbody>\n",
       "    <tr>\n",
       "      <th>0</th>\n",
       "      <td>Action</td>\n",
       "      <td>Game of Thrones</td>\n",
       "      <td>2472062</td>\n",
       "    </tr>\n",
       "    <tr>\n",
       "      <th>1</th>\n",
       "      <td>Adventure</td>\n",
       "      <td>Game of Thrones</td>\n",
       "      <td>2472062</td>\n",
       "    </tr>\n",
       "    <tr>\n",
       "      <th>2</th>\n",
       "      <td>Animation</td>\n",
       "      <td>Rick and Morty</td>\n",
       "      <td>665695</td>\n",
       "    </tr>\n",
       "    <tr>\n",
       "      <th>3</th>\n",
       "      <td>Biography</td>\n",
       "      <td>Narcos</td>\n",
       "      <td>508924</td>\n",
       "    </tr>\n",
       "    <tr>\n",
       "      <th>4</th>\n",
       "      <td>Comedy</td>\n",
       "      <td>Friends</td>\n",
       "      <td>1158004</td>\n",
       "    </tr>\n",
       "    <tr>\n",
       "      <th>5</th>\n",
       "      <td>Crime</td>\n",
       "      <td>Breaking Bad</td>\n",
       "      <td>2384857</td>\n",
       "    </tr>\n",
       "    <tr>\n",
       "      <th>6</th>\n",
       "      <td>Documentary</td>\n",
       "      <td>Planet Earth</td>\n",
       "      <td>229089</td>\n",
       "    </tr>\n",
       "    <tr>\n",
       "      <th>7</th>\n",
       "      <td>Drama</td>\n",
       "      <td>Game of Thrones</td>\n",
       "      <td>2472062</td>\n",
       "    </tr>\n",
       "    <tr>\n",
       "      <th>8</th>\n",
       "      <td>Family</td>\n",
       "      <td>Planet Earth</td>\n",
       "      <td>229089</td>\n",
       "    </tr>\n",
       "    <tr>\n",
       "      <th>9</th>\n",
       "      <td>Fantasy</td>\n",
       "      <td>Stranger Things</td>\n",
       "      <td>1478495</td>\n",
       "    </tr>\n",
       "    <tr>\n",
       "      <th>10</th>\n",
       "      <td>Game-Show</td>\n",
       "      <td>Whose Line Is It Anyway?</td>\n",
       "      <td>48374</td>\n",
       "    </tr>\n",
       "    <tr>\n",
       "      <th>11</th>\n",
       "      <td>History</td>\n",
       "      <td>Chernobyl</td>\n",
       "      <td>970478</td>\n",
       "    </tr>\n",
       "    <tr>\n",
       "      <th>12</th>\n",
       "      <td>Horror</td>\n",
       "      <td>Stranger Things</td>\n",
       "      <td>1478495</td>\n",
       "    </tr>\n",
       "    <tr>\n",
       "      <th>13</th>\n",
       "      <td>Music</td>\n",
       "      <td>Atlanta</td>\n",
       "      <td>95602</td>\n",
       "    </tr>\n",
       "    <tr>\n",
       "      <th>14</th>\n",
       "      <td>Musical</td>\n",
       "      <td>Flight of the Conchords</td>\n",
       "      <td>68696</td>\n",
       "    </tr>\n",
       "    <tr>\n",
       "      <th>15</th>\n",
       "      <td>Mystery</td>\n",
       "      <td>Sherlock</td>\n",
       "      <td>1059076</td>\n",
       "    </tr>\n",
       "    <tr>\n",
       "      <th>16</th>\n",
       "      <td>News</td>\n",
       "      <td>Last Week Tonight with John Oliver</td>\n",
       "      <td>101016</td>\n",
       "    </tr>\n",
       "    <tr>\n",
       "      <th>17</th>\n",
       "      <td>Reality-TV</td>\n",
       "      <td>Clarkson's Farm</td>\n",
       "      <td>77353</td>\n",
       "    </tr>\n",
       "    <tr>\n",
       "      <th>18</th>\n",
       "      <td>Romance</td>\n",
       "      <td>Friends</td>\n",
       "      <td>1158004</td>\n",
       "    </tr>\n",
       "    <tr>\n",
       "      <th>19</th>\n",
       "      <td>Sci-Fi</td>\n",
       "      <td>Westworld</td>\n",
       "      <td>550908</td>\n",
       "    </tr>\n",
       "    <tr>\n",
       "      <th>20</th>\n",
       "      <td>Short</td>\n",
       "      <td>Inside Look: The People v. O.J. Simpson - Amer...</td>\n",
       "      <td>27654</td>\n",
       "    </tr>\n",
       "    <tr>\n",
       "      <th>21</th>\n",
       "      <td>Sport</td>\n",
       "      <td>Ted Lasso</td>\n",
       "      <td>413552</td>\n",
       "    </tr>\n",
       "    <tr>\n",
       "      <th>22</th>\n",
       "      <td>Talk-Show</td>\n",
       "      <td>Last Week Tonight with John Oliver</td>\n",
       "      <td>101016</td>\n",
       "    </tr>\n",
       "    <tr>\n",
       "      <th>23</th>\n",
       "      <td>Thriller</td>\n",
       "      <td>Breaking Bad</td>\n",
       "      <td>2384857</td>\n",
       "    </tr>\n",
       "    <tr>\n",
       "      <th>24</th>\n",
       "      <td>War</td>\n",
       "      <td>M*A*S*H</td>\n",
       "      <td>67573</td>\n",
       "    </tr>\n",
       "    <tr>\n",
       "      <th>25</th>\n",
       "      <td>Western</td>\n",
       "      <td>Yellowstone</td>\n",
       "      <td>286365</td>\n",
       "    </tr>\n",
       "  </tbody>\n",
       "</table>\n",
       "</div>"
      ],
      "text/plain": [
       "          genre                                       primaryTitle  numVotes\n",
       "0        Action                                    Game of Thrones   2472062\n",
       "1     Adventure                                    Game of Thrones   2472062\n",
       "2     Animation                                     Rick and Morty    665695\n",
       "3     Biography                                             Narcos    508924\n",
       "4        Comedy                                            Friends   1158004\n",
       "5         Crime                                       Breaking Bad   2384857\n",
       "6   Documentary                                       Planet Earth    229089\n",
       "7         Drama                                    Game of Thrones   2472062\n",
       "8        Family                                       Planet Earth    229089\n",
       "9       Fantasy                                    Stranger Things   1478495\n",
       "10    Game-Show                           Whose Line Is It Anyway?     48374\n",
       "11      History                                          Chernobyl    970478\n",
       "12       Horror                                    Stranger Things   1478495\n",
       "13        Music                                            Atlanta     95602\n",
       "14      Musical                            Flight of the Conchords     68696\n",
       "15      Mystery                                           Sherlock   1059076\n",
       "16         News                 Last Week Tonight with John Oliver    101016\n",
       "17   Reality-TV                                    Clarkson's Farm     77353\n",
       "18      Romance                                            Friends   1158004\n",
       "19       Sci-Fi                                          Westworld    550908\n",
       "20        Short  Inside Look: The People v. O.J. Simpson - Amer...     27654\n",
       "21        Sport                                          Ted Lasso    413552\n",
       "22    Talk-Show                 Last Week Tonight with John Oliver    101016\n",
       "23     Thriller                                       Breaking Bad   2384857\n",
       "24          War                                            M*A*S*H     67573\n",
       "25      Western                                        Yellowstone    286365"
      ]
     },
     "execution_count": 37,
     "metadata": {},
     "output_type": "execute_result"
    }
   ],
   "source": [
    "df = data.assign(genre=data[\"genres\"].str.split(\",\")).explode(\"genre\")\n",
    "df[\"genre\"] = df[\"genre\"].str.strip()\n",
    "\n",
    "df.sort_values(\"numVotes\", ascending=False).groupby(\"genre\")[\n",
    "    [\"primaryTitle\", \"numVotes\"]\n",
    "].first().reset_index()"
   ]
  },
  {
   "cell_type": "markdown",
   "id": "0020949d",
   "metadata": {},
   "source": [
    "### Q24. \n",
    "Which genre has the highest average IMDb rating?"
   ]
  },
  {
   "cell_type": "code",
   "execution_count": 43,
   "id": "781cbe7b",
   "metadata": {},
   "outputs": [
    {
     "data": {
      "text/html": [
       "<div>\n",
       "<style scoped>\n",
       "    .dataframe tbody tr th:only-of-type {\n",
       "        vertical-align: middle;\n",
       "    }\n",
       "\n",
       "    .dataframe tbody tr th {\n",
       "        vertical-align: top;\n",
       "    }\n",
       "\n",
       "    .dataframe thead th {\n",
       "        text-align: right;\n",
       "    }\n",
       "</style>\n",
       "<table border=\"1\" class=\"dataframe\">\n",
       "  <thead>\n",
       "    <tr style=\"text-align: right;\">\n",
       "      <th></th>\n",
       "      <th>genre</th>\n",
       "      <th>averageRating</th>\n",
       "    </tr>\n",
       "  </thead>\n",
       "  <tbody>\n",
       "    <tr>\n",
       "      <th>0</th>\n",
       "      <td>Talk-Show</td>\n",
       "      <td>8.228846</td>\n",
       "    </tr>\n",
       "    <tr>\n",
       "      <th>1</th>\n",
       "      <td>Documentary</td>\n",
       "      <td>8.203945</td>\n",
       "    </tr>\n",
       "    <tr>\n",
       "      <th>2</th>\n",
       "      <td>War</td>\n",
       "      <td>8.182353</td>\n",
       "    </tr>\n",
       "    <tr>\n",
       "      <th>3</th>\n",
       "      <td>News</td>\n",
       "      <td>8.153846</td>\n",
       "    </tr>\n",
       "    <tr>\n",
       "      <th>4</th>\n",
       "      <td>Musical</td>\n",
       "      <td>8.122727</td>\n",
       "    </tr>\n",
       "  </tbody>\n",
       "</table>\n",
       "</div>"
      ],
      "text/plain": [
       "         genre  averageRating\n",
       "0    Talk-Show       8.228846\n",
       "1  Documentary       8.203945\n",
       "2          War       8.182353\n",
       "3         News       8.153846\n",
       "4      Musical       8.122727"
      ]
     },
     "execution_count": 43,
     "metadata": {},
     "output_type": "execute_result"
    }
   ],
   "source": [
    "df = data.assign(genre=data[\"genres\"].str.split(\",\")).explode(\"genre\")\n",
    "df[\"genre\"]=df[\"genre\"].str.strip()\n",
    "df.groupby(\"genre\")[\"averageRating\"].mean().nlargest(5).reset_index()"
   ]
  }
 ],
 "metadata": {
  "kernelspec": {
   "display_name": "env",
   "language": "python",
   "name": "python3"
  },
  "language_info": {
   "codemirror_mode": {
    "name": "ipython",
    "version": 3
   },
   "file_extension": ".py",
   "mimetype": "text/x-python",
   "name": "python",
   "nbconvert_exporter": "python",
   "pygments_lexer": "ipython3",
   "version": "3.13.5"
  }
 },
 "nbformat": 4,
 "nbformat_minor": 5
}
