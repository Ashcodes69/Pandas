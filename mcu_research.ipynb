{
 "cells": [
  {
   "cell_type": "code",
   "execution_count": 2,
   "id": "798c120b",
   "metadata": {},
   "outputs": [],
   "source": [
    "import pandas as pd"
   ]
  },
  {
   "cell_type": "markdown",
   "id": "f838caff",
   "metadata": {},
   "source": [
    "### Question 1\n",
    "\n",
    "Load your CSV into a DataFrame and display the first 5 rows.\n"
   ]
  },
  {
   "cell_type": "code",
   "execution_count": 3,
   "id": "f9593683",
   "metadata": {},
   "outputs": [
    {
     "data": {
      "text/html": [
       "<div>\n",
       "<style scoped>\n",
       "    .dataframe tbody tr th:only-of-type {\n",
       "        vertical-align: middle;\n",
       "    }\n",
       "\n",
       "    .dataframe tbody tr th {\n",
       "        vertical-align: top;\n",
       "    }\n",
       "\n",
       "    .dataframe thead th {\n",
       "        text-align: right;\n",
       "    }\n",
       "</style>\n",
       "<table border=\"1\" class=\"dataframe\">\n",
       "  <thead>\n",
       "    <tr style=\"text-align: right;\">\n",
       "      <th></th>\n",
       "      <th>movie</th>\n",
       "      <th>length_hrs</th>\n",
       "      <th>length_min</th>\n",
       "      <th>release_date</th>\n",
       "      <th>opening_weekend_us</th>\n",
       "      <th>gross_us</th>\n",
       "      <th>gross_world</th>\n",
       "    </tr>\n",
       "  </thead>\n",
       "  <tbody>\n",
       "    <tr>\n",
       "      <th>29</th>\n",
       "      <td>Black Panther: Wakanda Forever</td>\n",
       "      <td>2</td>\n",
       "      <td>41</td>\n",
       "      <td>2022-11-11</td>\n",
       "      <td>181340000</td>\n",
       "      <td>453830000</td>\n",
       "      <td>859210000</td>\n",
       "    </tr>\n",
       "    <tr>\n",
       "      <th>30</th>\n",
       "      <td>Ant-Man and the Wasp: Quantumania</td>\n",
       "      <td>2</td>\n",
       "      <td>4</td>\n",
       "      <td>2023-02-17</td>\n",
       "      <td>106110000</td>\n",
       "      <td>214510000</td>\n",
       "      <td>476070000</td>\n",
       "    </tr>\n",
       "    <tr>\n",
       "      <th>31</th>\n",
       "      <td>Guardians of the Galaxy Vol. 3</td>\n",
       "      <td>2</td>\n",
       "      <td>30</td>\n",
       "      <td>2023-05-05</td>\n",
       "      <td>118410000</td>\n",
       "      <td>358990000</td>\n",
       "      <td>845560000</td>\n",
       "    </tr>\n",
       "    <tr>\n",
       "      <th>32</th>\n",
       "      <td>The Marvels</td>\n",
       "      <td>1</td>\n",
       "      <td>45</td>\n",
       "      <td>2023-11-10</td>\n",
       "      <td>46110000</td>\n",
       "      <td>84500000</td>\n",
       "      <td>199710000</td>\n",
       "    </tr>\n",
       "    <tr>\n",
       "      <th>33</th>\n",
       "      <td>Deadpool &amp; Wolverine</td>\n",
       "      <td>2</td>\n",
       "      <td>8</td>\n",
       "      <td>2024-07-26</td>\n",
       "      <td>211440000</td>\n",
       "      <td>636750000</td>\n",
       "      <td>1338000000</td>\n",
       "    </tr>\n",
       "  </tbody>\n",
       "</table>\n",
       "</div>"
      ],
      "text/plain": [
       "                                movie  length_hrs  length_min release_date  \\\n",
       "29     Black Panther: Wakanda Forever           2          41   2022-11-11   \n",
       "30  Ant-Man and the Wasp: Quantumania           2           4   2023-02-17   \n",
       "31     Guardians of the Galaxy Vol. 3           2          30   2023-05-05   \n",
       "32                        The Marvels           1          45   2023-11-10   \n",
       "33               Deadpool & Wolverine           2           8   2024-07-26   \n",
       "\n",
       "    opening_weekend_us   gross_us  gross_world  \n",
       "29           181340000  453830000    859210000  \n",
       "30           106110000  214510000    476070000  \n",
       "31           118410000  358990000    845560000  \n",
       "32            46110000   84500000    199710000  \n",
       "33           211440000  636750000   1338000000  "
      ]
     },
     "execution_count": 3,
     "metadata": {},
     "output_type": "execute_result"
    }
   ],
   "source": [
    "data = pd.read_csv(\"mcu_movies_data.csv\")\n",
    "data.tail(5)\n",
    "# print(data.shape)\n",
    "# data.info()"
   ]
  },
  {
   "cell_type": "markdown",
   "id": "31e9c1f1",
   "metadata": {},
   "source": [
    "### Question 2\n",
    "\n",
    "How many MCU movies are there in your dataset in total?\n"
   ]
  },
  {
   "cell_type": "code",
   "execution_count": 4,
   "id": "6e8d1db1",
   "metadata": {},
   "outputs": [
    {
     "name": "stdout",
     "output_type": "stream",
     "text": [
      "total no of movies in my Ds:  34\n"
     ]
    }
   ],
   "source": [
    "data.shape\n",
    "print(\"total no of movies in my Ds: \", data.shape[0])"
   ]
  },
  {
   "cell_type": "markdown",
   "id": "947615f5",
   "metadata": {},
   "source": [
    "### Question 3\n",
    "\n",
    "Which MCU movie has the highest worldwide gross?\n"
   ]
  },
  {
   "cell_type": "code",
   "execution_count": 5,
   "id": "f925cc05",
   "metadata": {},
   "outputs": [
    {
     "name": "stdout",
     "output_type": "stream",
     "text": [
      "Highest worldwide gross by a mcu film is:  Avengers: Endgame\n"
     ]
    }
   ],
   "source": [
    "moive_nm = data.loc[data[\"gross_world\"] == max(data[\"gross_world\"])]\n",
    "print(\"Highest worldwide gross by a mcu film is: \", moive_nm[\"movie\"].item())"
   ]
  },
  {
   "cell_type": "markdown",
   "id": "ea635996",
   "metadata": {},
   "source": [
    "### Question 4\n",
    "\n",
    "What is the average opening weekend collection (US) across all MCU movies?\n"
   ]
  },
  {
   "cell_type": "code",
   "execution_count": null,
   "id": "b62b6adc",
   "metadata": {},
   "outputs": [
    {
     "name": "stdout",
     "output_type": "stream",
     "text": [
      "Average opening weekend collection us is:  134982984\n"
     ]
    }
   ],
   "source": [
    "avg_ow_us = int(data[\"opening_weekend_us\"].mean())\n",
    "print(\"Average opening weekend collection us is: \", avg_ow_us)"
   ]
  },
  {
   "cell_type": "markdown",
   "id": "60c0745c",
   "metadata": {},
   "source": [
    "### Question 5\n",
    "\n",
    "Find the top 5 MCU movies by US gross collection.\n"
   ]
  },
  {
   "cell_type": "code",
   "execution_count": 7,
   "id": "b1b19623",
   "metadata": {},
   "outputs": [
    {
     "name": "stdout",
     "output_type": "stream",
     "text": [
      "Top 5 MCU movies by us gross collections are: \n",
      "['Avengers: Endgame' 'Spider-Man: No Way Home' 'Black Panther'\n",
      " 'Avengers: Infinity War' 'Deadpool & Wolverine']\n"
     ]
    }
   ],
   "source": [
    "moives_nm = data.nlargest(5, \"gross_us\")\n",
    "print(\"Top 5 MCU movies by us gross collections are: \")\n",
    "print(moives_nm[\"movie\"].values)"
   ]
  },
  {
   "cell_type": "markdown",
   "id": "bee5ab24",
   "metadata": {},
   "source": [
    "### Question 6\n",
    "\n",
    "Which MCU movie had the lowest opening weekend collection (US), and how much was it?\n"
   ]
  },
  {
   "cell_type": "code",
   "execution_count": 8,
   "id": "3e5f9e7e",
   "metadata": {},
   "outputs": [
    {
     "name": "stdout",
     "output_type": "stream",
     "text": [
      "MCU moive ['The Marvels'] have the lowest opening weekend us which is [46110000]\n"
     ]
    }
   ],
   "source": [
    "moive_info = data.nsmallest(1, \"opening_weekend_us\")\n",
    "moive_name = moive_info[\"movie\"].values\n",
    "low_collec = moive_info[\"opening_weekend_us\"].values\n",
    "print(\n",
    "    f\"MCU moive {moive_name} have the lowest opening weekend us which is {low_collec}\"\n",
    ")"
   ]
  },
  {
   "cell_type": "markdown",
   "id": "8ce10eb4",
   "metadata": {},
   "source": [
    "### Question 7\n",
    "\n",
    "Now, calculate the total worldwide gross of all MCU movies combined.\n"
   ]
  },
  {
   "cell_type": "code",
   "execution_count": 9,
   "id": "1a65d449",
   "metadata": {},
   "outputs": [
    {
     "name": "stdout",
     "output_type": "stream",
     "text": [
      "total worldwide gross of all MCU films is: $31,155,154,480\n"
     ]
    }
   ],
   "source": [
    "total_colec = sum(data[\"gross_world\"])\n",
    "print(f\"total worldwide gross of all MCU films is: ${total_colec:,}\")"
   ]
  },
  {
   "cell_type": "code",
   "execution_count": 10,
   "id": "01b4b383",
   "metadata": {},
   "outputs": [
    {
     "name": "stdout",
     "output_type": "stream",
     "text": [
      "datetime64[ns]\n"
     ]
    }
   ],
   "source": [
    "data[\"release_date\"] = pd.to_datetime(data[\"release_date\"], errors=\"coerce\")\n",
    "print(data[\"release_date\"].dtype)"
   ]
  },
  {
   "cell_type": "markdown",
   "id": "5a7d3da3",
   "metadata": {},
   "source": [
    "### Question 8\n",
    "\n",
    "Which MCU movies have a runtime greater than 2 hours 30 minutes?\n"
   ]
  },
  {
   "cell_type": "code",
   "execution_count": 11,
   "id": "e3f3d30a",
   "metadata": {},
   "outputs": [
    {
     "name": "stdout",
     "output_type": "stream",
     "text": [
      "MCU movies with runtime grater than 2h 30min: \n",
      "Avengers: Endgame\n",
      "Eternals\n",
      "Black Panther: Wakanda Forever\n"
     ]
    }
   ],
   "source": [
    "totl_time_min = data[\"length_hrs\"].apply(lambda x: x * 60) + data[\"length_min\"]\n",
    "moives_nm = data[totl_time_min > 150][\"movie\"].tolist()\n",
    "moives_nm\n",
    "print(\"MCU movies with runtime grater than 2h 30min: \")\n",
    "for n in moives_nm:\n",
    "    print(n)"
   ]
  },
  {
   "cell_type": "markdown",
   "id": "70f655c7",
   "metadata": {},
   "source": [
    "### Question 9\n",
    "\n",
    "Find the movie(s) released in the earliest year in your dataset\n"
   ]
  },
  {
   "cell_type": "code",
   "execution_count": 12,
   "id": "3e4eaf7e",
   "metadata": {},
   "outputs": [
    {
     "name": "stdout",
     "output_type": "stream",
     "text": [
      "first MCU film Iron Man\n"
     ]
    }
   ],
   "source": [
    "print(\"first MCU film\", data.loc[data[\"release_date\"].idxmin()][\"movie\"])"
   ]
  },
  {
   "cell_type": "markdown",
   "id": "a04843d8",
   "metadata": {},
   "source": [
    "### Question 10\n",
    "\n",
    "Find the average runtime (in minutes) of all MCU movies in your dataset.\n"
   ]
  },
  {
   "cell_type": "code",
   "execution_count": 13,
   "id": "e3597a13",
   "metadata": {},
   "outputs": [
    {
     "name": "stdout",
     "output_type": "stream",
     "text": [
      "Average runtime of a MCU film:  131\n"
     ]
    }
   ],
   "source": [
    "print(\"Average runtime of a MCU film: \", int(totl_time_min.mean()))"
   ]
  },
  {
   "cell_type": "markdown",
   "id": "58be9a0d",
   "metadata": {},
   "source": [
    "### Question 11\n",
    "\n",
    "Which 5 MCU movies had the highest worldwide gross per minute of runtime?\n"
   ]
  },
  {
   "cell_type": "code",
   "execution_count": 14,
   "id": "da6cb0b1",
   "metadata": {},
   "outputs": [
    {
     "name": "stdout",
     "output_type": "stream",
     "text": [
      "Top 5 MCU movies eith the highest worldwide gross per minute of runtime are: \n",
      "Avengers: Endgame\n",
      "Avengers: Infinity War\n",
      "Spider-Man: No Way Home\n",
      "Marvel's The Avengers\n",
      "Deadpool & Wolverine\n"
     ]
    }
   ],
   "source": [
    "gross_pm = data[\"gross_world\"] / totl_time_min\n",
    "print(\"Top 5 MCU movies eith the highest worldwide gross per minute of runtime are: \")\n",
    "for n in data.loc[gross_pm.nlargest(5).index][\"movie\"].tolist():\n",
    "    print(n)"
   ]
  },
  {
   "cell_type": "markdown",
   "id": "fcf33e56",
   "metadata": {},
   "source": [
    "### Question 12\n",
    "\n",
    "Find the total US gross for MCU movies released before 2015 and compare it with those released 2015 and after\n"
   ]
  },
  {
   "cell_type": "code",
   "execution_count": 15,
   "id": "78988641",
   "metadata": {},
   "outputs": [
    {
     "name": "stdout",
     "output_type": "stream",
     "text": [
      "datetime64[ns]\n",
      "MCU movies total us collection before 2015: $2,956,178,715\n",
      "MCU movies total us collection after 2015: $9,481,672,542\n"
     ]
    }
   ],
   "source": [
    "print(data[\"release_date\"].dtype)\n",
    "before_2015_coll = data.loc[data[\"release_date\"] < pd.to_datetime(\"2015-01-01\")][\n",
    "    \"gross_us\"\n",
    "].sum()\n",
    "after_2015_coll = data.loc[data[\"release_date\"] >= pd.to_datetime(\"2015-01-01\")][\n",
    "    \"gross_us\"\n",
    "].sum()\n",
    "print(f\"MCU movies total us collection before 2015: ${before_2015_coll:,}\")\n",
    "print(f\"MCU movies total us collection after 2015: ${after_2015_coll:,}\")"
   ]
  },
  {
   "cell_type": "markdown",
   "id": "80d1b8c8",
   "metadata": {},
   "source": [
    "### Question 13\n",
    "\n",
    "Which year had the highest total worldwide gross for MCU movies?\n"
   ]
  },
  {
   "cell_type": "code",
   "execution_count": 16,
   "id": "2e987dc5",
   "metadata": {},
   "outputs": [
    {
     "name": "stdout",
     "output_type": "stream",
     "text": [
      "Highest worldwide gross is: $5,058,166,414 in year: 2019\n"
     ]
    }
   ],
   "source": [
    "larg_col_year = (\n",
    "    data.groupby(data[\"release_date\"].dt.year)[\"gross_world\"].sum().nlargest(1)\n",
    ")\n",
    "print(\n",
    "    f\"Highest worldwide gross is: ${larg_col_year.iloc[0]:,} in year: {larg_col_year.index[0]}\"\n",
    ")"
   ]
  },
  {
   "cell_type": "markdown",
   "id": "1a5c961e",
   "metadata": {},
   "source": [
    "### Question 14\n",
    "\n",
    "Which MCU movie had the biggest difference between its worldwide gross and US gross?\n",
    "\n",
    "👉 (Basically, find the movie that earned the most outside the US.)\n"
   ]
  },
  {
   "cell_type": "code",
   "execution_count": 17,
   "id": "68934d6d",
   "metadata": {},
   "outputs": [
    {
     "name": "stdout",
     "output_type": "stream",
     "text": [
      "MCU moive that earned the most outside us is:  Avengers: Endgame\n"
     ]
    }
   ],
   "source": [
    "outside_us_col = data[\"gross_world\"] - data[\"gross_us\"]\n",
    "print(\n",
    "    \"MCU moive that earned the most outside us is: \",\n",
    "    data.loc[outside_us_col.idxmax()][\"movie\"],\n",
    ")"
   ]
  },
  {
   "cell_type": "markdown",
   "id": "7725e464",
   "metadata": {},
   "source": [
    "### Question 15\n",
    "\n",
    "Find the average opening weekend US collection per year.\n"
   ]
  },
  {
   "cell_type": "code",
   "execution_count": null,
   "id": "e5160e64",
   "metadata": {},
   "outputs": [
    {
     "name": "stdout",
     "output_type": "stream",
     "text": [
      "Average opening weekwnd US per year: \n",
      " release_date\n",
      "2008     77016359\n",
      "2010    128122480\n",
      "2011     65390931\n",
      "2012    207438708\n",
      "2013    129941213\n",
      "2014     94672302\n",
      "2015    124248317\n",
      "2016    132098726\n",
      "2017    128760865\n",
      "2018    178504780\n",
      "2019    201042547\n",
      "2021    121800000\n",
      "2022    170976666\n",
      "2023     90210000\n",
      "2024    211440000\n",
      "Name: opening_weekend_us, dtype: int64\n"
     ]
    }
   ],
   "source": [
    "avg_op_us_pyear = (\n",
    "    data.groupby(data[\"release_date\"].dt.year)[\"opening_weekend_us\"].mean().astype(int)\n",
    ")\n",
    "print(\"Average opening weekwnd US per year: \\n\", avg_op_us_pyear)"
   ]
  },
  {
   "cell_type": "markdown",
   "id": "82a0dec2",
   "metadata": {},
   "source": [
    "### Question 16\n",
    "\n",
    "Which MCU movie(s) had a US gross less than half of its worldwide gross?\n",
    "\n",
    "👉 (In other words, find the titles where the international audience contributed at least 50%+ of the total.)\n"
   ]
  },
  {
   "cell_type": "code",
   "execution_count": null,
   "id": "2c1c1cfa",
   "metadata": {},
   "outputs": [
    {
     "name": "stdout",
     "output_type": "stream",
     "text": [
      "MCU movie(s) had a US gross less than half of its worldwide gross are: \n"
     ]
    },
    {
     "data": {
      "text/plain": [
       "['Thor',\n",
       " 'Captain America: The First Avenger',\n",
       " \"Marvel's The Avengers\",\n",
       " 'Iron Man 3',\n",
       " 'Thor: The Dark World',\n",
       " 'Captain America: The Winder Soldier',\n",
       " 'Guardians of the Galaxy',\n",
       " 'Avengers: Age of Ultron',\n",
       " 'Ant-Man',\n",
       " 'Captain America: Civil War',\n",
       " 'Doctor Strange',\n",
       " 'Guardians of the Galaxy Vol. 2',\n",
       " 'Spiderman: Homecoming',\n",
       " 'Thor: Ragnarok',\n",
       " 'Avengers: Infinity War',\n",
       " 'Ant-Man and the Wasp',\n",
       " 'Captain Marvel',\n",
       " 'Avengers: Endgame',\n",
       " 'Spiderman: Far from Home',\n",
       " 'Black Widow',\n",
       " 'Eternals',\n",
       " 'Spider-Man: No Way Home',\n",
       " 'Doctor Strange in the Multiverse of Madness',\n",
       " 'Thor: Love and Thunder',\n",
       " 'Ant-Man and the Wasp: Quantumania',\n",
       " 'Guardians of the Galaxy Vol. 3',\n",
       " 'The Marvels',\n",
       " 'Deadpool & Wolverine']"
      ]
     },
     "execution_count": 32,
     "metadata": {},
     "output_type": "execute_result"
    }
   ],
   "source": [
    "print(\"MCU movie(s) had a US gross less than half of its worldwide gross are: \")\n",
    "data.loc[data[\"gross_us\"] < data[\"gross_world\"] / 2][\"movie\"].tolist()"
   ]
  },
  {
   "cell_type": "markdown",
   "id": "e44920ef",
   "metadata": {},
   "source": [
    "### Question 17\n",
    "\n",
    "Find the top 3 MCU movies with the highest opening weekend as a percentage of total US gross.\n"
   ]
  },
  {
   "cell_type": "code",
   "execution_count": null,
   "id": "145e7365",
   "metadata": {},
   "outputs": [
    {
     "name": "stdout",
     "output_type": "stream",
     "text": [
      "top 3 MCU movies with the highest opening weekend as a percentage of total US gross: \n",
      "The Marvels\n",
      "Ant-Man and the Wasp: Quantumania\n",
      "Doctor Strange in the Multiverse of Madness\n"
     ]
    }
   ],
   "source": [
    "print(\n",
    "    \"top 3 MCU movies with the highest opening weekend as a percentage of total US gross: \"\n",
    ")\n",
    "for n in data.loc[\n",
    "    ((data[\"opening_weekend_us\"] / data[\"gross_us\"]) * 100).nlargest(3).index\n",
    "][\"movie\"].tolist():\n",
    "    print(n)"
   ]
  },
  {
   "cell_type": "markdown",
   "id": "43cdd027",
   "metadata": {},
   "source": [
    "### Question 18\n",
    "\n",
    "Which MCU movie had the smallest difference between its opening weekend US and its total US gross?\n",
    "\n",
    "👉 (Basically, the movie that made most of its US money in the very first weekend.)\n"
   ]
  },
  {
   "cell_type": "code",
   "execution_count": null,
   "id": "efedbe5d",
   "metadata": {},
   "outputs": [
    {
     "name": "stdout",
     "output_type": "stream",
     "text": [
      "the movie that made most of its US money in the very first weekend:  ['The Marvels']\n"
     ]
    }
   ],
   "source": [
    "moive_nm = data.loc[(data[\"gross_us\"] - data[\"opening_weekend_us\"]).nsmallest(1).index][\n",
    "    \"movie\"\n",
    "].values\n",
    "print(\"the movie that made most of its US money in the very first weekend: \", moive_nm)"
   ]
  },
  {
   "cell_type": "markdown",
   "id": "5f98b4ff",
   "metadata": {},
   "source": [
    "### Question 19\n",
    "\n",
    "Which MCU movies have a runtime shorter than the overall average runtime?\n",
    "\n",
    "👉 (So compare each movie’s runtime with the mean runtime you calculated earlier.)\n"
   ]
  },
  {
   "cell_type": "code",
   "execution_count": 56,
   "id": "fd74e18d",
   "metadata": {},
   "outputs": [
    {
     "name": "stdout",
     "output_type": "stream",
     "text": [
      "MCU movies have a runtime shorter than the overall average runtime: \n",
      "Iron Man\n",
      "The Incredible Hulk\n",
      "Iron Man 2\n",
      "Thor\n",
      "Captain America: The First Avenger\n",
      "Iron Man 3\n",
      "Thor: The Dark World\n",
      "Guardians of the Galaxy\n",
      "Ant-Man\n",
      "Doctor Strange\n",
      "Thor: Ragnarok\n",
      "Ant-Man and the Wasp\n",
      "Captain Marvel\n",
      "Spiderman: Far from Home\n",
      "Doctor Strange in the Multiverse of Madness\n",
      "Thor: Love and Thunder\n",
      "Ant-Man and the Wasp: Quantumania\n",
      "The Marvels\n",
      "Deadpool & Wolverine\n"
     ]
    }
   ],
   "source": [
    "print(\"MCU movies have a runtime shorter than the overall average runtime: \")\n",
    "for n in data.loc[totl_time_min.mean() > totl_time_min][\"movie\"].tolist():\n",
    "  print(n)"
   ]
  },
  {
   "cell_type": "markdown",
   "id": "2b9e9e8f",
   "metadata": {},
   "source": [
    "### Question 20\n",
    "\n",
    "Now let’s do a combined analysis:\n",
    "\n",
    "Find the year with the highest number of MCU movie releases, and list the movies released that year."
   ]
  },
  {
   "cell_type": "code",
   "execution_count": null,
   "id": "730cc273",
   "metadata": {},
   "outputs": [
    {
     "name": "stdout",
     "output_type": "stream",
     "text": [
      "Highest number of MCU movies relesed in: 2021\n",
      " and the movies are: \n",
      "Black Widow\n",
      "Shang-Chi and the Legend of the Ten Rings\n",
      "Eternals\n",
      "Spider-Man: No Way Home\n"
     ]
    }
   ],
   "source": [
    "peak_year = data.groupby(data[\"release_date\"].dt.year)[\"movie\"].count().idxmax()\n",
    "print(f\"Highest number of MCU movies relesed in: {peak_year}\\n and the movies are: \")\n",
    "for n in data[data[\"release_date\"].dt.year == peak_year][\"movie\"].tolist():\n",
    "    print(n)"
   ]
  },
  {
   "cell_type": "markdown",
   "id": "f5f626ac",
   "metadata": {},
   "source": [
    "# 📌 Summary of Learnings from MCU Movies Dataset (20 Questions Practice)\n",
    "### ✅ Data Handling Basics\n",
    "\n",
    "Loaded CSV data into a pandas DataFrame.\n",
    "\n",
    "Previewed dataset using .head().\n",
    "\n",
    "Checked dataset size with .shape.\n",
    "\n",
    "### ✅ Filtering & Selection\n",
    "\n",
    "Found specific rows based on conditions (loc[], comparisons).\n",
    "\n",
    "Used idxmax() and idxmin() to get rows with max/min values.\n",
    "\n",
    "Extracted subsets of columns and converted them to lists with .tolist().\n",
    "\n",
    "### ✅ Aggregations & Statistics\n",
    "\n",
    "Counted total movies in dataset.\n",
    "\n",
    "Calculated mean/average values (e.g., opening weekend US, runtime).\n",
    "\n",
    "Computed sums (e.g., total worldwide gross).\n",
    "\n",
    "Compared values before/after a specific year.\n",
    "\n",
    "### ✅ Sorting & Ranking\n",
    "\n",
    "Found top/bottom N movies using .nlargest() and .nsmallest().\n",
    "\n",
    "Sorted movies by gross collections.\n",
    "\n",
    "Ranked movies by metrics like gross per minute runtime or opening weekend percentage.\n",
    "\n",
    "### ✅ Working with Dates\n",
    "\n",
    "Converted release_date to datetime.\n",
    "\n",
    "Extracted year using .dt.year.\n",
    "\n",
    "Grouped by year for analysis (e.g., highest gross year, most movies released).\n",
    "\n",
    "### ✅ Derived Metrics\n",
    "\n",
    "Created new metrics like:\n",
    "\n",
    "Total runtime in minutes.\n",
    "\n",
    "Gross per minute of runtime.\n",
    "\n",
    "Outside-US earnings (worldwide – US gross).\n",
    "\n",
    "Opening weekend as % of US gross.\n",
    "\n",
    "Compared values against averages (runtime, gross, etc.).\n",
    "\n",
    "### ✅ GroupBy & Aggregation\n",
    "\n",
    "Grouped by year to find:\n",
    "\n",
    "Average opening weekend collection.\n",
    "\n",
    "Total worldwide gross.\n",
    "\n",
    "Movie counts per year.\n",
    "\n",
    "### ✅ Business/Analytical Insights\n",
    "\n",
    "Identified:\n",
    "\n",
    "Longest and shortest movies.\n",
    "\n",
    "Highest-grossing movie(s) worldwide and in the US.\n",
    "\n",
    "Movies more dependent on international earnings.\n",
    "\n",
    "Year with peak MCU releases.\n",
    "\n",
    "Movies that made most of their US money in opening weekend.\n",
    "\n",
    "## 📊 Overall Skills Practiced\n",
    "\n",
    "Data Loading & Cleaning\n",
    "\n",
    "Exploratory Data Analysis (EDA) with filtering, sorting, grouping\n",
    "\n",
    "Date/Time handling in pandas\n",
    "\n",
    "Creating new calculated columns/metrics\n",
    "\n",
    "Summarizing insights from raw numbers"
   ]
  }
 ],
 "metadata": {
  "kernelspec": {
   "display_name": "env",
   "language": "python",
   "name": "python3"
  },
  "language_info": {
   "codemirror_mode": {
    "name": "ipython",
    "version": 3
   },
   "file_extension": ".py",
   "mimetype": "text/x-python",
   "name": "python",
   "nbconvert_exporter": "python",
   "pygments_lexer": "ipython3",
   "version": "3.13.5"
  }
 },
 "nbformat": 4,
 "nbformat_minor": 5
}
