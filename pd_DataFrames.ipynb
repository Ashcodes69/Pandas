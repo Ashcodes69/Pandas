{
 "cells": [
  {
   "cell_type": "markdown",
   "id": "4f623e49",
   "metadata": {},
   "source": [
    "# DataFrames:"
   ]
  },
  {
   "cell_type": "code",
   "execution_count": 3,
   "id": "c1e578ca",
   "metadata": {},
   "outputs": [],
   "source": [
    "import pandas as pd\n",
    "import numpy as np"
   ]
  },
  {
   "cell_type": "markdown",
   "id": "79fafe81",
   "metadata": {},
   "source": [
    "### create DataFrames using dict"
   ]
  },
  {
   "cell_type": "code",
   "execution_count": 4,
   "id": "0c707a8c",
   "metadata": {},
   "outputs": [
    {
     "name": "stdout",
     "output_type": "stream",
     "text": [
      "      Name   Age Department   Salary\n",
      "0    Alice  25.0         HR  50000.0\n",
      "1      Bob  30.0         IT  60000.0\n",
      "2  Charlie  35.0    Finance  70000.0\n",
      "3    David   NaN         IT  62000.0\n",
      "4      Eve  29.0         HR      NaN\n",
      "5    Alice  25.0         HR  50000.0\n",
      "\n",
      "Shape of the DataFrame:  (6, 4)\n",
      "\n",
      "SIze of the DataFrame:  24\n",
      "\n",
      "Other important info about the DataFrame: \n",
      "\n",
      "<class 'pandas.core.frame.DataFrame'>\n",
      "RangeIndex: 6 entries, 0 to 5\n",
      "Data columns (total 4 columns):\n",
      " #   Column      Non-Null Count  Dtype  \n",
      "---  ------      --------------  -----  \n",
      " 0   Name        6 non-null      object \n",
      " 1   Age         5 non-null      float64\n",
      " 2   Department  6 non-null      object \n",
      " 3   Salary      5 non-null      float64\n",
      "dtypes: float64(2), object(2)\n",
      "memory usage: 324.0+ bytes\n",
      "\n",
      " described data frame:\n"
     ]
    },
    {
     "data": {
      "text/html": [
       "<div>\n",
       "<style scoped>\n",
       "    .dataframe tbody tr th:only-of-type {\n",
       "        vertical-align: middle;\n",
       "    }\n",
       "\n",
       "    .dataframe tbody tr th {\n",
       "        vertical-align: top;\n",
       "    }\n",
       "\n",
       "    .dataframe thead th {\n",
       "        text-align: right;\n",
       "    }\n",
       "</style>\n",
       "<table border=\"1\" class=\"dataframe\">\n",
       "  <thead>\n",
       "    <tr style=\"text-align: right;\">\n",
       "      <th></th>\n",
       "      <th>Age</th>\n",
       "      <th>Salary</th>\n",
       "    </tr>\n",
       "  </thead>\n",
       "  <tbody>\n",
       "    <tr>\n",
       "      <th>count</th>\n",
       "      <td>5.000000</td>\n",
       "      <td>5.000000</td>\n",
       "    </tr>\n",
       "    <tr>\n",
       "      <th>mean</th>\n",
       "      <td>28.800000</td>\n",
       "      <td>58400.000000</td>\n",
       "    </tr>\n",
       "    <tr>\n",
       "      <th>std</th>\n",
       "      <td>4.147288</td>\n",
       "      <td>8532.291603</td>\n",
       "    </tr>\n",
       "    <tr>\n",
       "      <th>min</th>\n",
       "      <td>25.000000</td>\n",
       "      <td>50000.000000</td>\n",
       "    </tr>\n",
       "    <tr>\n",
       "      <th>25%</th>\n",
       "      <td>25.000000</td>\n",
       "      <td>50000.000000</td>\n",
       "    </tr>\n",
       "    <tr>\n",
       "      <th>50%</th>\n",
       "      <td>29.000000</td>\n",
       "      <td>60000.000000</td>\n",
       "    </tr>\n",
       "    <tr>\n",
       "      <th>75%</th>\n",
       "      <td>30.000000</td>\n",
       "      <td>62000.000000</td>\n",
       "    </tr>\n",
       "    <tr>\n",
       "      <th>max</th>\n",
       "      <td>35.000000</td>\n",
       "      <td>70000.000000</td>\n",
       "    </tr>\n",
       "  </tbody>\n",
       "</table>\n",
       "</div>"
      ],
      "text/plain": [
       "             Age        Salary\n",
       "count   5.000000      5.000000\n",
       "mean   28.800000  58400.000000\n",
       "std     4.147288   8532.291603\n",
       "min    25.000000  50000.000000\n",
       "25%    25.000000  50000.000000\n",
       "50%    29.000000  60000.000000\n",
       "75%    30.000000  62000.000000\n",
       "max    35.000000  70000.000000"
      ]
     },
     "execution_count": 4,
     "metadata": {},
     "output_type": "execute_result"
    }
   ],
   "source": [
    "data = {\n",
    "    \"Name\": [\"Alice\", \"Bob\", \"Charlie\", \"David\", \"Eve\", \"Alice\"],\n",
    "    \"Age\": [25, 30, 35, np.nan, 29, 25],\n",
    "    \"Department\": [\"HR\", \"IT\", \"Finance\", \"IT\", \"HR\", \"HR\"],\n",
    "    \"Salary\": [50000, 60000, 70000, 62000, np.nan, 50000]\n",
    "}\n",
    "\n",
    "df = pd.DataFrame(data) # creates dataframe from a dictonary\n",
    "print(df)\n",
    "\n",
    "# no of rows are knwn as samle size\n",
    "# columns known as featers\n",
    "\n",
    "print(\"\\nShape of the DataFrame: \",df.shape) \n",
    "print(\"\\nSIze of the DataFrame: \",df.size) \n",
    "print(\"\\nOther important info about the DataFrame: \\n\") \n",
    "df.info()  # call this function to get all the information about data frames\n",
    "\n",
    "# perform some standrad operation on the df and gives a basic idea about the df\n",
    "print(\"\\n described data frame:\")\n",
    "df.describe()\n",
    "# checks only those columns which as int or float dataype\n"
   ]
  },
  {
   "cell_type": "markdown",
   "id": "33eef672",
   "metadata": {},
   "source": [
    "### .head() & .tail()\n",
    "   to get n elements from start or end"
   ]
  },
  {
   "cell_type": "code",
   "execution_count": 5,
   "id": "56e1616d",
   "metadata": {},
   "outputs": [
    {
     "name": "stdout",
     "output_type": "stream",
     "text": [
      "From start:\n",
      "\n",
      "     Name   Age Department   Salary\n",
      "0  Alice  25.0         HR  50000.0\n",
      "1    Bob  30.0         IT  60000.0\n",
      "\n",
      "From end:\n",
      "\n",
      "     Name   Age Department   Salary\n",
      "3  David   NaN         IT  62000.0\n",
      "4    Eve  29.0         HR      NaN\n",
      "5  Alice  25.0         HR  50000.0\n"
     ]
    }
   ],
   "source": [
    "print(\"From start:\\n\\n\", df.head(2))  # .head(n) gives first rows from the start\n",
    "print(\"\\nFrom end:\\n\\n\", df.tail(3))  # .tail(n) gives last rows from the last"
   ]
  },
  {
   "cell_type": "markdown",
   "id": "46a3692d",
   "metadata": {},
   "source": [
    "### .loc[ ] and .iloc[ ]\n",
    "to get a particular rows or columns"
   ]
  },
  {
   "cell_type": "code",
   "execution_count": 6,
   "id": "ac485e19",
   "metadata": {},
   "outputs": [
    {
     "name": "stdout",
     "output_type": "stream",
     "text": [
      "Elements from indes 1 to 3: \n",
      "      Name   Age Department   Salary\n",
      "1      Bob  30.0         IT  60000.0\n",
      "2  Charlie  35.0    Finance  70000.0\n",
      "3    David   NaN         IT  62000.0\n",
      "\n",
      "Salarys of the Employees: \n",
      "    Salary\n",
      "1  60000.0\n",
      "2  70000.0\n",
      "3  62000.0\n",
      "\n",
      "Names and Age of the Employees: \n",
      "      Name   Age\n",
      "1      Bob  30.0\n",
      "2  Charlie  35.0\n",
      "3    David   NaN\n"
     ]
    }
   ],
   "source": [
    "print(\"Elements from indes 1 to 3: \")\n",
    "print(df.iloc[1:4])  # returns desiered rows with all columns\n",
    "# to get both desired rows and column using iloc[]\n",
    "print(\"\\nSalarys of the Employees: \")\n",
    "print(df.iloc[1:4, 3:]) \n",
    "\n",
    "print(\"\\nNames and Age of the Employees: \")\n",
    "# in loc[] two parameters can be passed one for the rows and second one for the columns\n",
    "print(df.loc[1:3, [\"Name\", \"Age\"]])  # returns desired rows and also desired columns"
   ]
  },
  {
   "cell_type": "markdown",
   "id": "6bd1e99e",
   "metadata": {},
   "source": [
    "### .drop()\n",
    "to remove an entire row or column from DataFrame"
   ]
  },
  {
   "cell_type": "code",
   "execution_count": 7,
   "id": "ebe4332e",
   "metadata": {},
   "outputs": [
    {
     "name": "stdout",
     "output_type": "stream",
     "text": [
      "      Name Department   Salary\n",
      "0    Alice         HR  50000.0\n",
      "1      Bob         IT  60000.0\n",
      "2  Charlie    Finance  70000.0\n",
      "3    David         IT  62000.0\n",
      "4      Eve         HR      NaN\n",
      "5    Alice         HR  50000.0\n",
      "\n",
      "       Name   Age Department   Salary\n",
      "0    Alice  25.0         HR  50000.0\n",
      "1      Bob  30.0         IT  60000.0\n",
      "2  Charlie  35.0    Finance  70000.0\n",
      "3    David   NaN         IT  62000.0\n",
      "4      Eve  29.0         HR      NaN\n",
      "5    Alice  25.0         HR  50000.0\n"
     ]
    }
   ],
   "source": [
    "# axis 1 for column 0 for rows\n",
    "# this removed entire age column from df\n",
    "print(df.drop(\"Age\", axis=1, inplace=False))  # this returns a coppy of our origional df\n",
    "# inplace=False set it true if want to change origional df by default its false\n",
    "\n",
    "print(\"\\n\", df)  # here age is still in data beause that was just a coppy"
   ]
  },
  {
   "cell_type": "markdown",
   "id": "e386bb03",
   "metadata": {},
   "source": [
    "### Brodcasting in Pandas"
   ]
  },
  {
   "cell_type": "code",
   "execution_count": 8,
   "id": "15907783",
   "metadata": {},
   "outputs": [
    {
     "name": "stdout",
     "output_type": "stream",
     "text": [
      "Original Salary: \n",
      " 0    50000.0\n",
      "1    60000.0\n",
      "2    70000.0\n",
      "3    62000.0\n",
      "4        NaN\n",
      "5    50000.0\n",
      "Name: Salary, dtype: float64\n",
      "\n",
      "Updated Salary: \n",
      " 0    55000.0\n",
      "1    65000.0\n",
      "2    75000.0\n",
      "3    67000.0\n",
      "4        NaN\n",
      "5    55000.0\n",
      "Name: Salary, dtype: float64\n"
     ]
    }
   ],
   "source": [
    "# lets increase the salarys of all employee by 5000\n",
    "\n",
    "print(\"Original Salary: \\n\", df[\"Salary\"])\n",
    "\n",
    "df[\"Salary\"] = df[\"Salary\"] + 5000\n",
    "# it updates in the origional dataframe made no coppys\n",
    "# this adds 5000 in everyones salary like an loop\n",
    "\n",
    "print(\"\\nUpdated Salary: \\n\", df[\"Salary\"])"
   ]
  },
  {
   "cell_type": "markdown",
   "id": "9bf25ec3",
   "metadata": {},
   "source": [
    "### Renaming columns"
   ]
  },
  {
   "cell_type": "code",
   "execution_count": 9,
   "id": "af1e5b15",
   "metadata": {},
   "outputs": [
    {
     "name": "stdout",
     "output_type": "stream",
     "text": [
      "      Name   Age     Dept   Salary\n",
      "0    Alice  25.0       HR  55000.0\n",
      "1      Bob  30.0       IT  65000.0\n",
      "2  Charlie  35.0  Finance  75000.0\n",
      "3    David   NaN       IT  67000.0\n",
      "4      Eve  29.0       HR      NaN\n",
      "5    Alice  25.0       HR  55000.0\n"
     ]
    }
   ],
   "source": [
    "# lets change a name of the column   Department to Dept\n",
    "\n",
    "df.rename(columns={\"Department\": \"Dept\"}, inplace=True)\n",
    "# we added inplace=True so it changes in the main df instead of amking a copy\n",
    "print(df) # here Department changed into Dept"
   ]
  },
  {
   "cell_type": "markdown",
   "id": "b33a2c14",
   "metadata": {},
   "source": [
    "### .unique()\n",
    "to find the unique values "
   ]
  },
  {
   "cell_type": "code",
   "execution_count": 10,
   "id": "f62695b3",
   "metadata": {},
   "outputs": [
    {
     "name": "stdout",
     "output_type": "stream",
     "text": [
      "Departments in office:  ['HR' 'IT' 'Finance']\n"
     ]
    }
   ],
   "source": [
    "print(\"Departments in office: \", df[\"Dept\"].unique())\n",
    "# returns only the unique values ignores dublicate values"
   ]
  },
  {
   "cell_type": "markdown",
   "id": "94d0d380",
   "metadata": {},
   "source": [
    "### .value_count()\n",
    "distribution of one particular column across the data set"
   ]
  },
  {
   "cell_type": "code",
   "execution_count": 11,
   "id": "318ae83f",
   "metadata": {},
   "outputs": [
    {
     "name": "stdout",
     "output_type": "stream",
     "text": [
      "People working across all departments:\n",
      " Dept\n",
      "HR         3\n",
      "IT         2\n",
      "Finance    1\n",
      "Name: count, dtype: int64\n"
     ]
    }
   ],
   "source": [
    "print(\"People working across all departments:\\n\",df[\"Dept\"].value_counts()) \n",
    "# counts all rows in Dept column and returns their counts"
   ]
  },
  {
   "cell_type": "markdown",
   "id": "0c5f0e78",
   "metadata": {},
   "source": [
    "### create a new column"
   ]
  },
  {
   "cell_type": "code",
   "execution_count": 25,
   "id": "2478afbe",
   "metadata": {},
   "outputs": [
    {
     "name": "stdout",
     "output_type": "stream",
     "text": [
      "\n",
      " New Data frame: \n",
      "\n"
     ]
    },
    {
     "data": {
      "text/html": [
       "<div>\n",
       "<style scoped>\n",
       "    .dataframe tbody tr th:only-of-type {\n",
       "        vertical-align: middle;\n",
       "    }\n",
       "\n",
       "    .dataframe tbody tr th {\n",
       "        vertical-align: top;\n",
       "    }\n",
       "\n",
       "    .dataframe thead th {\n",
       "        text-align: right;\n",
       "    }\n",
       "</style>\n",
       "<table border=\"1\" class=\"dataframe\">\n",
       "  <thead>\n",
       "    <tr style=\"text-align: right;\">\n",
       "      <th></th>\n",
       "      <th>Name</th>\n",
       "      <th>Age</th>\n",
       "      <th>Dept</th>\n",
       "      <th>Salary</th>\n",
       "      <th>Promoted salary</th>\n",
       "    </tr>\n",
       "  </thead>\n",
       "  <tbody>\n",
       "    <tr>\n",
       "      <th>0</th>\n",
       "      <td>Alice</td>\n",
       "      <td>25.0</td>\n",
       "      <td>HR</td>\n",
       "      <td>55000.0</td>\n",
       "      <td>110000.0</td>\n",
       "    </tr>\n",
       "    <tr>\n",
       "      <th>1</th>\n",
       "      <td>Bob</td>\n",
       "      <td>30.0</td>\n",
       "      <td>IT</td>\n",
       "      <td>65000.0</td>\n",
       "      <td>130000.0</td>\n",
       "    </tr>\n",
       "    <tr>\n",
       "      <th>2</th>\n",
       "      <td>Charlie</td>\n",
       "      <td>35.0</td>\n",
       "      <td>Finance</td>\n",
       "      <td>75000.0</td>\n",
       "      <td>150000.0</td>\n",
       "    </tr>\n",
       "    <tr>\n",
       "      <th>3</th>\n",
       "      <td>David</td>\n",
       "      <td>NaN</td>\n",
       "      <td>IT</td>\n",
       "      <td>67000.0</td>\n",
       "      <td>134000.0</td>\n",
       "    </tr>\n",
       "    <tr>\n",
       "      <th>4</th>\n",
       "      <td>Eve</td>\n",
       "      <td>29.0</td>\n",
       "      <td>HR</td>\n",
       "      <td>NaN</td>\n",
       "      <td>NaN</td>\n",
       "    </tr>\n",
       "    <tr>\n",
       "      <th>5</th>\n",
       "      <td>Alice</td>\n",
       "      <td>25.0</td>\n",
       "      <td>HR</td>\n",
       "      <td>55000.0</td>\n",
       "      <td>110000.0</td>\n",
       "    </tr>\n",
       "  </tbody>\n",
       "</table>\n",
       "</div>"
      ],
      "text/plain": [
       "      Name   Age     Dept   Salary  Promoted salary\n",
       "0    Alice  25.0       HR  55000.0         110000.0\n",
       "1      Bob  30.0       IT  65000.0         130000.0\n",
       "2  Charlie  35.0  Finance  75000.0         150000.0\n",
       "3    David   NaN       IT  67000.0         134000.0\n",
       "4      Eve  29.0       HR      NaN              NaN\n",
       "5    Alice  25.0       HR  55000.0         110000.0"
      ]
     },
     "execution_count": 25,
     "metadata": {},
     "output_type": "execute_result"
    }
   ],
   "source": [
    "# lets pramote our emplyess and increase their salary 2 times in a new column\n",
    "\n",
    "df[\"Promoted salary\"] = df[\"Salary\"] * 2\n",
    "print(\"\\n New Data frame: \\n\")\n",
    "df  # here a new column is created with promoted salary"
   ]
  },
  {
   "cell_type": "markdown",
   "id": "4a5f8a89",
   "metadata": {},
   "source": [
    "## Data cleaning"
   ]
  },
  {
   "cell_type": "code",
   "execution_count": 24,
   "id": "e783bd21",
   "metadata": {},
   "outputs": [
    {
     "name": "stdout",
     "output_type": "stream",
     "text": [
      "No of null values in each column: \n",
      "Name               0\n",
      "Age                1\n",
      "Dept               0\n",
      "Salary             1\n",
      "Promoted salary    1\n",
      "dtype: int64\n"
     ]
    },
    {
     "data": {
      "text/html": [
       "<div>\n",
       "<style scoped>\n",
       "    .dataframe tbody tr th:only-of-type {\n",
       "        vertical-align: middle;\n",
       "    }\n",
       "\n",
       "    .dataframe tbody tr th {\n",
       "        vertical-align: top;\n",
       "    }\n",
       "\n",
       "    .dataframe thead th {\n",
       "        text-align: right;\n",
       "    }\n",
       "</style>\n",
       "<table border=\"1\" class=\"dataframe\">\n",
       "  <thead>\n",
       "    <tr style=\"text-align: right;\">\n",
       "      <th></th>\n",
       "      <th>Name</th>\n",
       "      <th>Age</th>\n",
       "      <th>Dept</th>\n",
       "      <th>Salary</th>\n",
       "      <th>Promoted salary</th>\n",
       "    </tr>\n",
       "  </thead>\n",
       "  <tbody>\n",
       "    <tr>\n",
       "      <th>0</th>\n",
       "      <td>Alice</td>\n",
       "      <td>25.0</td>\n",
       "      <td>HR</td>\n",
       "      <td>55000.0</td>\n",
       "      <td>110000.0</td>\n",
       "    </tr>\n",
       "    <tr>\n",
       "      <th>1</th>\n",
       "      <td>Bob</td>\n",
       "      <td>30.0</td>\n",
       "      <td>IT</td>\n",
       "      <td>65000.0</td>\n",
       "      <td>130000.0</td>\n",
       "    </tr>\n",
       "    <tr>\n",
       "      <th>2</th>\n",
       "      <td>Charlie</td>\n",
       "      <td>35.0</td>\n",
       "      <td>Finance</td>\n",
       "      <td>75000.0</td>\n",
       "      <td>150000.0</td>\n",
       "    </tr>\n",
       "    <tr>\n",
       "      <th>3</th>\n",
       "      <td>David</td>\n",
       "      <td>NaN</td>\n",
       "      <td>IT</td>\n",
       "      <td>67000.0</td>\n",
       "      <td>134000.0</td>\n",
       "    </tr>\n",
       "    <tr>\n",
       "      <th>4</th>\n",
       "      <td>Eve</td>\n",
       "      <td>29.0</td>\n",
       "      <td>HR</td>\n",
       "      <td>NaN</td>\n",
       "      <td>NaN</td>\n",
       "    </tr>\n",
       "    <tr>\n",
       "      <th>5</th>\n",
       "      <td>Alice</td>\n",
       "      <td>25.0</td>\n",
       "      <td>HR</td>\n",
       "      <td>55000.0</td>\n",
       "      <td>110000.0</td>\n",
       "    </tr>\n",
       "  </tbody>\n",
       "</table>\n",
       "</div>"
      ],
      "text/plain": [
       "      Name   Age     Dept   Salary  Promoted salary\n",
       "0    Alice  25.0       HR  55000.0         110000.0\n",
       "1      Bob  30.0       IT  65000.0         130000.0\n",
       "2  Charlie  35.0  Finance  75000.0         150000.0\n",
       "3    David   NaN       IT  67000.0         134000.0\n",
       "4      Eve  29.0       HR      NaN              NaN\n",
       "5    Alice  25.0       HR  55000.0         110000.0"
      ]
     },
     "execution_count": 24,
     "metadata": {},
     "output_type": "execute_result"
    }
   ],
   "source": [
    "print(\"No of null values in each column: \")\n",
    "print(df.isnull().sum())\n",
    "\n",
    "df.dropna(how=\"all\" )\n",
    "# .dropna() has two methods to clean null values \n",
    "# 1. any deletes an entire row if he just found a single null value by default it set on any\n",
    "# 2. all deltets the row when all the values are null otherwise it remains untouched\n",
    "# Note: we need to use inplace=True in order to change in origional df otherwise it returns a coppy\n"
   ]
  },
  {
   "cell_type": "markdown",
   "id": "37c593f8",
   "metadata": {},
   "source": [
    "### Filling data in nulll values"
   ]
  },
  {
   "cell_type": "code",
   "execution_count": 32,
   "id": "e66380fc",
   "metadata": {},
   "outputs": [
    {
     "name": "stdout",
     "output_type": "stream",
     "text": [
      "Age column after filling null values: \n",
      "0    25.0\n",
      "1    30.0\n",
      "2    35.0\n",
      "3    28.8\n",
      "4    29.0\n",
      "5    25.0\n",
      "Name: Age, dtype: float64\n",
      "\n",
      "Salary column after filling null values: \n",
      "0    55000.0\n",
      "1    65000.0\n",
      "2    75000.0\n",
      "3    67000.0\n",
      "4    65000.0\n",
      "5    55000.0\n",
      "Name: Salary, dtype: float64\n",
      "\n",
      "Promoted salary column after filling null values: \n",
      "0    110000.0\n",
      "1    130000.0\n",
      "2    150000.0\n",
      "3    134000.0\n",
      "4    130000.0\n",
      "5    110000.0\n",
      "Name: Promoted salary, dtype: float64\n"
     ]
    }
   ],
   "source": [
    "print(\"Age column after filling null values: \")\n",
    "print(df[\"Age\"].fillna(df[\"Age\"].mean()))\n",
    "# in this line we said fil the null values of age column to the average value of age column\n",
    "# use inplace = True to change in origional data set\n",
    "\n",
    "print(\"\\nSalary column after filling null values: \")\n",
    "print(df[\"Salary\"].fillna(df[\"Salary\"].median()))\n",
    "\n",
    "print(\"\\nPromoted salary column after filling null values: \")\n",
    "print(df[\"Promoted salary\"].fillna(df[\"Promoted salary\"].median()))"
   ]
  },
  {
   "cell_type": "markdown",
   "id": "68b1b620",
   "metadata": {},
   "source": [
    "ffill( )   & bfill()"
   ]
  },
  {
   "cell_type": "code",
   "execution_count": null,
   "id": "ad46965c",
   "metadata": {},
   "outputs": [
    {
     "name": "stdout",
     "output_type": "stream",
     "text": [
      "0    25.0\n",
      "1    30.0\n",
      "2    35.0\n",
      "3    35.0\n",
      "4    29.0\n",
      "5    25.0\n",
      "Name: Age, dtype: float64\n",
      "0    25.0\n",
      "1    30.0\n",
      "2    35.0\n",
      "3    29.0\n",
      "4    29.0\n",
      "5    25.0\n",
      "Name: Age, dtype: float64\n"
     ]
    }
   ],
   "source": [
    "print(df[\"Age\"].ffill()) # it fills the missing value with its previous row value in the same column\n",
    "print(df[\"Age\"].bfill()) # it fills the missing value with its safter row value in the same column"
   ]
  },
  {
   "cell_type": "markdown",
   "id": "6a94563e",
   "metadata": {},
   "source": [
    "### Replace a value in a column or row"
   ]
  },
  {
   "cell_type": "code",
   "execution_count": 53,
   "id": "efee791b",
   "metadata": {},
   "outputs": [
    {
     "name": "stdout",
     "output_type": "stream",
     "text": [
      "Origional df: \n",
      "      Name   Age     Dept   Salary  Promoted salary\n",
      "0    Alice  25.0       HR  55000.0         110000.0\n",
      "1   Sentry  30.0       IT  65000.0         130000.0\n",
      "2  Charlie  35.0  Finance  75000.0         150000.0\n",
      "3    David   NaN       IT  67000.0         134000.0\n",
      "4      Eve  29.0       HR      NaN              NaN\n",
      "\n",
      " Changet df:\n"
     ]
    },
    {
     "data": {
      "text/html": [
       "<div>\n",
       "<style scoped>\n",
       "    .dataframe tbody tr th:only-of-type {\n",
       "        vertical-align: middle;\n",
       "    }\n",
       "\n",
       "    .dataframe tbody tr th {\n",
       "        vertical-align: top;\n",
       "    }\n",
       "\n",
       "    .dataframe thead th {\n",
       "        text-align: right;\n",
       "    }\n",
       "</style>\n",
       "<table border=\"1\" class=\"dataframe\">\n",
       "  <thead>\n",
       "    <tr style=\"text-align: right;\">\n",
       "      <th></th>\n",
       "      <th>Name</th>\n",
       "      <th>Age</th>\n",
       "      <th>Dept</th>\n",
       "      <th>Salary</th>\n",
       "      <th>Promoted salary</th>\n",
       "    </tr>\n",
       "  </thead>\n",
       "  <tbody>\n",
       "    <tr>\n",
       "      <th>0</th>\n",
       "      <td>Alice</td>\n",
       "      <td>25.0</td>\n",
       "      <td>HR</td>\n",
       "      <td>55000.0</td>\n",
       "      <td>110000.0</td>\n",
       "    </tr>\n",
       "    <tr>\n",
       "      <th>1</th>\n",
       "      <td>Sentry</td>\n",
       "      <td>30.0</td>\n",
       "      <td>IT</td>\n",
       "      <td>65000.0</td>\n",
       "      <td>130000.0</td>\n",
       "    </tr>\n",
       "    <tr>\n",
       "      <th>2</th>\n",
       "      <td>Charlie</td>\n",
       "      <td>35.0</td>\n",
       "      <td>Finance</td>\n",
       "      <td>75000.0</td>\n",
       "      <td>150000.0</td>\n",
       "    </tr>\n",
       "    <tr>\n",
       "      <th>3</th>\n",
       "      <td>David</td>\n",
       "      <td>NaN</td>\n",
       "      <td>IT</td>\n",
       "      <td>67000.0</td>\n",
       "      <td>134000.0</td>\n",
       "    </tr>\n",
       "    <tr>\n",
       "      <th>4</th>\n",
       "      <td>Eve</td>\n",
       "      <td>29.0</td>\n",
       "      <td>HR</td>\n",
       "      <td>NaN</td>\n",
       "      <td>NaN</td>\n",
       "    </tr>\n",
       "  </tbody>\n",
       "</table>\n",
       "</div>"
      ],
      "text/plain": [
       "      Name   Age     Dept   Salary  Promoted salary\n",
       "0    Alice  25.0       HR  55000.0         110000.0\n",
       "1   Sentry  30.0       IT  65000.0         130000.0\n",
       "2  Charlie  35.0  Finance  75000.0         150000.0\n",
       "3    David   NaN       IT  67000.0         134000.0\n",
       "4      Eve  29.0       HR      NaN              NaN"
      ]
     },
     "execution_count": 53,
     "metadata": {},
     "output_type": "execute_result"
    }
   ],
   "source": [
    "print(\"Origional df: \")\n",
    "print(df)\n",
    "\n",
    "# lets change Bob's name to Sentry\n",
    "df[\"Name\"]=df[\"Name\"].replace(\"Bob\",\"Sentry\")\n",
    "# here you can see Bob changed into sentry\n",
    "# beause we set df['Name'] = replaced name it also changed int he origional df\n",
    "\n",
    "print(\"\\n Changet df:\")\n",
    "df"
   ]
  },
  {
   "cell_type": "markdown",
   "id": "88a7e0b4",
   "metadata": {},
   "source": [
    "### Dealing with Dublicate values"
   ]
  },
  {
   "cell_type": "code",
   "execution_count": 52,
   "id": "7cec2f29",
   "metadata": {},
   "outputs": [
    {
     "name": "stdout",
     "output_type": "stream",
     "text": [
      "dublicate rows: \n",
      " Empty DataFrame\n",
      "Columns: [Name, Age, Dept, Salary, Promoted salary]\n",
      "Index: []\n",
      "\n",
      "Df with no dublicate vaalues: \n"
     ]
    },
    {
     "data": {
      "text/html": [
       "<div>\n",
       "<style scoped>\n",
       "    .dataframe tbody tr th:only-of-type {\n",
       "        vertical-align: middle;\n",
       "    }\n",
       "\n",
       "    .dataframe tbody tr th {\n",
       "        vertical-align: top;\n",
       "    }\n",
       "\n",
       "    .dataframe thead th {\n",
       "        text-align: right;\n",
       "    }\n",
       "</style>\n",
       "<table border=\"1\" class=\"dataframe\">\n",
       "  <thead>\n",
       "    <tr style=\"text-align: right;\">\n",
       "      <th></th>\n",
       "      <th>Name</th>\n",
       "      <th>Age</th>\n",
       "      <th>Dept</th>\n",
       "      <th>Salary</th>\n",
       "      <th>Promoted salary</th>\n",
       "    </tr>\n",
       "  </thead>\n",
       "  <tbody>\n",
       "    <tr>\n",
       "      <th>0</th>\n",
       "      <td>Alice</td>\n",
       "      <td>25.0</td>\n",
       "      <td>HR</td>\n",
       "      <td>55000.0</td>\n",
       "      <td>110000.0</td>\n",
       "    </tr>\n",
       "    <tr>\n",
       "      <th>1</th>\n",
       "      <td>Sentry</td>\n",
       "      <td>30.0</td>\n",
       "      <td>IT</td>\n",
       "      <td>65000.0</td>\n",
       "      <td>130000.0</td>\n",
       "    </tr>\n",
       "    <tr>\n",
       "      <th>2</th>\n",
       "      <td>Charlie</td>\n",
       "      <td>35.0</td>\n",
       "      <td>Finance</td>\n",
       "      <td>75000.0</td>\n",
       "      <td>150000.0</td>\n",
       "    </tr>\n",
       "    <tr>\n",
       "      <th>3</th>\n",
       "      <td>David</td>\n",
       "      <td>NaN</td>\n",
       "      <td>IT</td>\n",
       "      <td>67000.0</td>\n",
       "      <td>134000.0</td>\n",
       "    </tr>\n",
       "    <tr>\n",
       "      <th>4</th>\n",
       "      <td>Eve</td>\n",
       "      <td>29.0</td>\n",
       "      <td>HR</td>\n",
       "      <td>NaN</td>\n",
       "      <td>NaN</td>\n",
       "    </tr>\n",
       "  </tbody>\n",
       "</table>\n",
       "</div>"
      ],
      "text/plain": [
       "      Name   Age     Dept   Salary  Promoted salary\n",
       "0    Alice  25.0       HR  55000.0         110000.0\n",
       "1   Sentry  30.0       IT  65000.0         130000.0\n",
       "2  Charlie  35.0  Finance  75000.0         150000.0\n",
       "3    David   NaN       IT  67000.0         134000.0\n",
       "4      Eve  29.0       HR      NaN              NaN"
      ]
     },
     "execution_count": 52,
     "metadata": {},
     "output_type": "execute_result"
    }
   ],
   "source": [
    "print(\"dublicate rows: \\n\",df[df.duplicated()])\n",
    "\n",
    "# delete the dublicate rouw\n",
    "df = df.drop_duplicates()\n",
    "print(\"\\nDf with no dublicate vaalues: \")\n",
    "df"
   ]
  },
  {
   "cell_type": "markdown",
   "id": "2ae70266",
   "metadata": {},
   "source": [
    "### Deal with invalid values in a column \n",
    "using lambda finction"
   ]
  },
  {
   "cell_type": "code",
   "execution_count": 59,
   "id": "8b4f5960",
   "metadata": {},
   "outputs": [
    {
     "data": {
      "text/html": [
       "<div>\n",
       "<style scoped>\n",
       "    .dataframe tbody tr th:only-of-type {\n",
       "        vertical-align: middle;\n",
       "    }\n",
       "\n",
       "    .dataframe tbody tr th {\n",
       "        vertical-align: top;\n",
       "    }\n",
       "\n",
       "    .dataframe thead th {\n",
       "        text-align: right;\n",
       "    }\n",
       "</style>\n",
       "<table border=\"1\" class=\"dataframe\">\n",
       "  <thead>\n",
       "    <tr style=\"text-align: right;\">\n",
       "      <th></th>\n",
       "      <th>Name</th>\n",
       "      <th>Age</th>\n",
       "      <th>Dept</th>\n",
       "      <th>Salary</th>\n",
       "      <th>Promoted salary</th>\n",
       "    </tr>\n",
       "  </thead>\n",
       "  <tbody>\n",
       "    <tr>\n",
       "      <th>0</th>\n",
       "      <td>Alice</td>\n",
       "      <td>25.0</td>\n",
       "      <td>HR</td>\n",
       "      <td>55000.0</td>\n",
       "      <td>110000.0</td>\n",
       "    </tr>\n",
       "    <tr>\n",
       "      <th>1</th>\n",
       "      <td>Sentry</td>\n",
       "      <td>30.0</td>\n",
       "      <td>IT</td>\n",
       "      <td>65000.0</td>\n",
       "      <td>130000.0</td>\n",
       "    </tr>\n",
       "    <tr>\n",
       "      <th>2</th>\n",
       "      <td>Charlie</td>\n",
       "      <td>35.0</td>\n",
       "      <td>Finance</td>\n",
       "      <td>75000.0</td>\n",
       "      <td>75000.0</td>\n",
       "    </tr>\n",
       "    <tr>\n",
       "      <th>3</th>\n",
       "      <td>David</td>\n",
       "      <td>NaN</td>\n",
       "      <td>IT</td>\n",
       "      <td>67000.0</td>\n",
       "      <td>67000.0</td>\n",
       "    </tr>\n",
       "    <tr>\n",
       "      <th>4</th>\n",
       "      <td>Eve</td>\n",
       "      <td>29.0</td>\n",
       "      <td>HR</td>\n",
       "      <td>NaN</td>\n",
       "      <td>NaN</td>\n",
       "    </tr>\n",
       "  </tbody>\n",
       "</table>\n",
       "</div>"
      ],
      "text/plain": [
       "      Name   Age     Dept   Salary  Promoted salary\n",
       "0    Alice  25.0       HR  55000.0         110000.0\n",
       "1   Sentry  30.0       IT  65000.0         130000.0\n",
       "2  Charlie  35.0  Finance  75000.0          75000.0\n",
       "3    David   NaN       IT  67000.0          67000.0\n",
       "4      Eve  29.0       HR      NaN              NaN"
      ]
     },
     "execution_count": 59,
     "metadata": {},
     "output_type": "execute_result"
    }
   ],
   "source": [
    "# for example\n",
    "# lets just devide the promoted salarys by 2 which are grater than 130000\n",
    "\n",
    "df[\"Promoted salary\"] = df[\"Promoted salary\"].apply(\n",
    "    lambda x: x / 2 if x > 130000 else x\n",
    ")\n",
    "# as you can see two values in index 2 and 3 are grater than 130000 so the get devided by 2\n",
    "# we can also use any function instead of lambda inside .apply()\n",
    "df"
   ]
  },
  {
   "cell_type": "markdown",
   "id": "95c61b0c",
   "metadata": {},
   "source": [
    "## Joint and Merge"
   ]
  },
  {
   "cell_type": "code",
   "execution_count": null,
   "id": "6bfde169",
   "metadata": {},
   "outputs": [
    {
     "name": "stdout",
     "output_type": "stream",
     "text": [
      "      Name   Age     Dept   Salary  Promoted salary\n",
      "0    Alice  25.0       HR  55000.0         110000.0\n",
      "1   Sentry  30.0       IT  65000.0         130000.0\n",
      "2  Charlie  35.0  Finance  75000.0          75000.0\n",
      "3    David   NaN       IT  67000.0          67000.0\n",
      "4      Eve  29.0       HR      NaN              NaN\n"
     ]
    },
    {
     "data": {
      "text/html": [
       "<div>\n",
       "<style scoped>\n",
       "    .dataframe tbody tr th:only-of-type {\n",
       "        vertical-align: middle;\n",
       "    }\n",
       "\n",
       "    .dataframe tbody tr th {\n",
       "        vertical-align: top;\n",
       "    }\n",
       "\n",
       "    .dataframe thead th {\n",
       "        text-align: right;\n",
       "    }\n",
       "</style>\n",
       "<table border=\"1\" class=\"dataframe\">\n",
       "  <thead>\n",
       "    <tr style=\"text-align: right;\">\n",
       "      <th></th>\n",
       "      <th>Department</th>\n",
       "      <th>Location</th>\n",
       "      <th>Manager</th>\n",
       "    </tr>\n",
       "  </thead>\n",
       "  <tbody>\n",
       "    <tr>\n",
       "      <th>0</th>\n",
       "      <td>HR</td>\n",
       "      <td>New York</td>\n",
       "      <td>Laura</td>\n",
       "    </tr>\n",
       "    <tr>\n",
       "      <th>1</th>\n",
       "      <td>IT</td>\n",
       "      <td>San Francisco</td>\n",
       "      <td>Steve</td>\n",
       "    </tr>\n",
       "    <tr>\n",
       "      <th>2</th>\n",
       "      <td>Finance</td>\n",
       "      <td>Chicago</td>\n",
       "      <td>Nina</td>\n",
       "    </tr>\n",
       "  </tbody>\n",
       "</table>\n",
       "</div>"
      ],
      "text/plain": [
       "  Department       Location Manager\n",
       "0         HR       New York   Laura\n",
       "1         IT  San Francisco   Steve\n",
       "2    Finance        Chicago    Nina"
      ]
     },
     "execution_count": 56,
     "metadata": {},
     "output_type": "execute_result"
    }
   ],
   "source": [
    "# lets take an another data set to understand this topic\n",
    "department_info = {\n",
    "    \"Department\": [\"HR\", \"IT\", \"Finance\"],\n",
    "    \"Location\": [\"New York\", \"San Francisco\", \"Chicago\"],\n",
    "    \"Manager\": [\"Laura\", \"Steve\", \"Nina\"],\n",
    "}\n",
    "df2 = pd.DataFrame(department_info)\n",
    "print(df)  # our first data\n",
    "df2  # second data"
   ]
  },
  {
   "cell_type": "markdown",
   "id": "d1c2218b",
   "metadata": {},
   "source": [
    "#### concat()"
   ]
  },
  {
   "cell_type": "code",
   "execution_count": null,
   "id": "857d406c",
   "metadata": {},
   "outputs": [
    {
     "data": {
      "text/html": [
       "<div>\n",
       "<style scoped>\n",
       "    .dataframe tbody tr th:only-of-type {\n",
       "        vertical-align: middle;\n",
       "    }\n",
       "\n",
       "    .dataframe tbody tr th {\n",
       "        vertical-align: top;\n",
       "    }\n",
       "\n",
       "    .dataframe thead th {\n",
       "        text-align: right;\n",
       "    }\n",
       "</style>\n",
       "<table border=\"1\" class=\"dataframe\">\n",
       "  <thead>\n",
       "    <tr style=\"text-align: right;\">\n",
       "      <th></th>\n",
       "      <th>Name</th>\n",
       "      <th>Age</th>\n",
       "      <th>Dept</th>\n",
       "      <th>Salary</th>\n",
       "      <th>Promoted salary</th>\n",
       "      <th>Department</th>\n",
       "      <th>Location</th>\n",
       "      <th>Manager</th>\n",
       "    </tr>\n",
       "  </thead>\n",
       "  <tbody>\n",
       "    <tr>\n",
       "      <th>0</th>\n",
       "      <td>Alice</td>\n",
       "      <td>25.0</td>\n",
       "      <td>HR</td>\n",
       "      <td>55000.0</td>\n",
       "      <td>110000.0</td>\n",
       "      <td>NaN</td>\n",
       "      <td>NaN</td>\n",
       "      <td>NaN</td>\n",
       "    </tr>\n",
       "    <tr>\n",
       "      <th>1</th>\n",
       "      <td>Sentry</td>\n",
       "      <td>30.0</td>\n",
       "      <td>IT</td>\n",
       "      <td>65000.0</td>\n",
       "      <td>130000.0</td>\n",
       "      <td>NaN</td>\n",
       "      <td>NaN</td>\n",
       "      <td>NaN</td>\n",
       "    </tr>\n",
       "    <tr>\n",
       "      <th>2</th>\n",
       "      <td>Charlie</td>\n",
       "      <td>35.0</td>\n",
       "      <td>Finance</td>\n",
       "      <td>75000.0</td>\n",
       "      <td>75000.0</td>\n",
       "      <td>NaN</td>\n",
       "      <td>NaN</td>\n",
       "      <td>NaN</td>\n",
       "    </tr>\n",
       "    <tr>\n",
       "      <th>3</th>\n",
       "      <td>David</td>\n",
       "      <td>NaN</td>\n",
       "      <td>IT</td>\n",
       "      <td>67000.0</td>\n",
       "      <td>67000.0</td>\n",
       "      <td>NaN</td>\n",
       "      <td>NaN</td>\n",
       "      <td>NaN</td>\n",
       "    </tr>\n",
       "    <tr>\n",
       "      <th>4</th>\n",
       "      <td>Eve</td>\n",
       "      <td>29.0</td>\n",
       "      <td>HR</td>\n",
       "      <td>NaN</td>\n",
       "      <td>NaN</td>\n",
       "      <td>NaN</td>\n",
       "      <td>NaN</td>\n",
       "      <td>NaN</td>\n",
       "    </tr>\n",
       "    <tr>\n",
       "      <th>0</th>\n",
       "      <td>NaN</td>\n",
       "      <td>NaN</td>\n",
       "      <td>NaN</td>\n",
       "      <td>NaN</td>\n",
       "      <td>NaN</td>\n",
       "      <td>HR</td>\n",
       "      <td>New York</td>\n",
       "      <td>Laura</td>\n",
       "    </tr>\n",
       "    <tr>\n",
       "      <th>1</th>\n",
       "      <td>NaN</td>\n",
       "      <td>NaN</td>\n",
       "      <td>NaN</td>\n",
       "      <td>NaN</td>\n",
       "      <td>NaN</td>\n",
       "      <td>IT</td>\n",
       "      <td>San Francisco</td>\n",
       "      <td>Steve</td>\n",
       "    </tr>\n",
       "    <tr>\n",
       "      <th>2</th>\n",
       "      <td>NaN</td>\n",
       "      <td>NaN</td>\n",
       "      <td>NaN</td>\n",
       "      <td>NaN</td>\n",
       "      <td>NaN</td>\n",
       "      <td>Finance</td>\n",
       "      <td>Chicago</td>\n",
       "      <td>Nina</td>\n",
       "    </tr>\n",
       "  </tbody>\n",
       "</table>\n",
       "</div>"
      ],
      "text/plain": [
       "      Name   Age     Dept   Salary  Promoted salary Department       Location  \\\n",
       "0    Alice  25.0       HR  55000.0         110000.0        NaN            NaN   \n",
       "1   Sentry  30.0       IT  65000.0         130000.0        NaN            NaN   \n",
       "2  Charlie  35.0  Finance  75000.0          75000.0        NaN            NaN   \n",
       "3    David   NaN       IT  67000.0          67000.0        NaN            NaN   \n",
       "4      Eve  29.0       HR      NaN              NaN        NaN            NaN   \n",
       "0      NaN   NaN      NaN      NaN              NaN         HR       New York   \n",
       "1      NaN   NaN      NaN      NaN              NaN         IT  San Francisco   \n",
       "2      NaN   NaN      NaN      NaN              NaN    Finance        Chicago   \n",
       "\n",
       "  Manager  \n",
       "0     NaN  \n",
       "1     NaN  \n",
       "2     NaN  \n",
       "3     NaN  \n",
       "4     NaN  \n",
       "0   Laura  \n",
       "1   Steve  \n",
       "2    Nina  "
      ]
     },
     "execution_count": 58,
     "metadata": {},
     "output_type": "execute_result"
    }
   ],
   "source": [
    "pd.concat([df,df2])\n",
    "# combines alll data horizontly row wise\n",
    "# set all missing values from both the data sets to null"
   ]
  },
  {
   "cell_type": "code",
   "execution_count": null,
   "id": "1a25a96c",
   "metadata": {},
   "outputs": [
    {
     "data": {
      "text/html": [
       "<div>\n",
       "<style scoped>\n",
       "    .dataframe tbody tr th:only-of-type {\n",
       "        vertical-align: middle;\n",
       "    }\n",
       "\n",
       "    .dataframe tbody tr th {\n",
       "        vertical-align: top;\n",
       "    }\n",
       "\n",
       "    .dataframe thead th {\n",
       "        text-align: right;\n",
       "    }\n",
       "</style>\n",
       "<table border=\"1\" class=\"dataframe\">\n",
       "  <thead>\n",
       "    <tr style=\"text-align: right;\">\n",
       "      <th></th>\n",
       "      <th>Name</th>\n",
       "      <th>Age</th>\n",
       "      <th>Dept</th>\n",
       "      <th>Salary</th>\n",
       "      <th>Promoted salary</th>\n",
       "      <th>Department</th>\n",
       "      <th>Location</th>\n",
       "      <th>Manager</th>\n",
       "    </tr>\n",
       "  </thead>\n",
       "  <tbody>\n",
       "    <tr>\n",
       "      <th>0</th>\n",
       "      <td>Alice</td>\n",
       "      <td>25.0</td>\n",
       "      <td>HR</td>\n",
       "      <td>55000.0</td>\n",
       "      <td>110000.0</td>\n",
       "      <td>HR</td>\n",
       "      <td>New York</td>\n",
       "      <td>Laura</td>\n",
       "    </tr>\n",
       "    <tr>\n",
       "      <th>1</th>\n",
       "      <td>Sentry</td>\n",
       "      <td>30.0</td>\n",
       "      <td>IT</td>\n",
       "      <td>65000.0</td>\n",
       "      <td>130000.0</td>\n",
       "      <td>IT</td>\n",
       "      <td>San Francisco</td>\n",
       "      <td>Steve</td>\n",
       "    </tr>\n",
       "    <tr>\n",
       "      <th>2</th>\n",
       "      <td>Charlie</td>\n",
       "      <td>35.0</td>\n",
       "      <td>Finance</td>\n",
       "      <td>75000.0</td>\n",
       "      <td>75000.0</td>\n",
       "      <td>Finance</td>\n",
       "      <td>Chicago</td>\n",
       "      <td>Nina</td>\n",
       "    </tr>\n",
       "    <tr>\n",
       "      <th>3</th>\n",
       "      <td>David</td>\n",
       "      <td>NaN</td>\n",
       "      <td>IT</td>\n",
       "      <td>67000.0</td>\n",
       "      <td>67000.0</td>\n",
       "      <td>NaN</td>\n",
       "      <td>NaN</td>\n",
       "      <td>NaN</td>\n",
       "    </tr>\n",
       "    <tr>\n",
       "      <th>4</th>\n",
       "      <td>Eve</td>\n",
       "      <td>29.0</td>\n",
       "      <td>HR</td>\n",
       "      <td>NaN</td>\n",
       "      <td>NaN</td>\n",
       "      <td>NaN</td>\n",
       "      <td>NaN</td>\n",
       "      <td>NaN</td>\n",
       "    </tr>\n",
       "  </tbody>\n",
       "</table>\n",
       "</div>"
      ],
      "text/plain": [
       "      Name   Age     Dept   Salary  Promoted salary Department       Location  \\\n",
       "0    Alice  25.0       HR  55000.0         110000.0         HR       New York   \n",
       "1   Sentry  30.0       IT  65000.0         130000.0         IT  San Francisco   \n",
       "2  Charlie  35.0  Finance  75000.0          75000.0    Finance        Chicago   \n",
       "3    David   NaN       IT  67000.0          67000.0        NaN            NaN   \n",
       "4      Eve  29.0       HR      NaN              NaN        NaN            NaN   \n",
       "\n",
       "  Manager  \n",
       "0   Laura  \n",
       "1   Steve  \n",
       "2    Nina  \n",
       "3     NaN  \n",
       "4     NaN  "
      ]
     },
     "execution_count": 60,
     "metadata": {},
     "output_type": "execute_result"
    }
   ],
   "source": [
    "pd.concat([df,df2],axis=1)\n",
    "# combines alll data verticully or column wise"
   ]
  },
  {
   "cell_type": "markdown",
   "id": "c4062160",
   "metadata": {},
   "source": [
    "#### merge()"
   ]
  },
  {
   "cell_type": "code",
   "execution_count": 70,
   "id": "448bf586",
   "metadata": {},
   "outputs": [
    {
     "data": {
      "text/html": [
       "<div>\n",
       "<style scoped>\n",
       "    .dataframe tbody tr th:only-of-type {\n",
       "        vertical-align: middle;\n",
       "    }\n",
       "\n",
       "    .dataframe tbody tr th {\n",
       "        vertical-align: top;\n",
       "    }\n",
       "\n",
       "    .dataframe thead th {\n",
       "        text-align: right;\n",
       "    }\n",
       "</style>\n",
       "<table border=\"1\" class=\"dataframe\">\n",
       "  <thead>\n",
       "    <tr style=\"text-align: right;\">\n",
       "      <th></th>\n",
       "      <th>Name</th>\n",
       "      <th>Age</th>\n",
       "      <th>Dept</th>\n",
       "      <th>Salary</th>\n",
       "      <th>Promoted salary</th>\n",
       "      <th>Location</th>\n",
       "      <th>Manager</th>\n",
       "    </tr>\n",
       "  </thead>\n",
       "  <tbody>\n",
       "    <tr>\n",
       "      <th>0</th>\n",
       "      <td>Alice</td>\n",
       "      <td>25.0</td>\n",
       "      <td>HR</td>\n",
       "      <td>55000.0</td>\n",
       "      <td>110000.0</td>\n",
       "      <td>New York</td>\n",
       "      <td>Laura</td>\n",
       "    </tr>\n",
       "    <tr>\n",
       "      <th>1</th>\n",
       "      <td>Sentry</td>\n",
       "      <td>30.0</td>\n",
       "      <td>IT</td>\n",
       "      <td>65000.0</td>\n",
       "      <td>130000.0</td>\n",
       "      <td>San Francisco</td>\n",
       "      <td>Steve</td>\n",
       "    </tr>\n",
       "    <tr>\n",
       "      <th>2</th>\n",
       "      <td>Charlie</td>\n",
       "      <td>35.0</td>\n",
       "      <td>Finance</td>\n",
       "      <td>75000.0</td>\n",
       "      <td>75000.0</td>\n",
       "      <td>Chicago</td>\n",
       "      <td>Nina</td>\n",
       "    </tr>\n",
       "    <tr>\n",
       "      <th>3</th>\n",
       "      <td>David</td>\n",
       "      <td>NaN</td>\n",
       "      <td>IT</td>\n",
       "      <td>67000.0</td>\n",
       "      <td>67000.0</td>\n",
       "      <td>San Francisco</td>\n",
       "      <td>Steve</td>\n",
       "    </tr>\n",
       "    <tr>\n",
       "      <th>4</th>\n",
       "      <td>Eve</td>\n",
       "      <td>29.0</td>\n",
       "      <td>HR</td>\n",
       "      <td>NaN</td>\n",
       "      <td>NaN</td>\n",
       "      <td>New York</td>\n",
       "      <td>Laura</td>\n",
       "    </tr>\n",
       "  </tbody>\n",
       "</table>\n",
       "</div>"
      ],
      "text/plain": [
       "      Name   Age     Dept   Salary  Promoted salary       Location Manager\n",
       "0    Alice  25.0       HR  55000.0         110000.0       New York   Laura\n",
       "1   Sentry  30.0       IT  65000.0         130000.0  San Francisco   Steve\n",
       "2  Charlie  35.0  Finance  75000.0          75000.0        Chicago    Nina\n",
       "3    David   NaN       IT  67000.0          67000.0  San Francisco   Steve\n",
       "4      Eve  29.0       HR      NaN              NaN       New York   Laura"
      ]
     },
     "execution_count": 70,
     "metadata": {},
     "output_type": "execute_result"
    }
   ],
   "source": [
    "df2.rename(columns={\"Department\": \"Dept\"}, inplace=True)\n",
    "# we use merge by taking refernce of a common column from both the data sets\n",
    "merged_df = pd.merge(df, df2, on=\"Dept\")\n",
    "merged_df"
   ]
  }
 ],
 "metadata": {
  "kernelspec": {
   "display_name": "env",
   "language": "python",
   "name": "python3"
  },
  "language_info": {
   "codemirror_mode": {
    "name": "ipython",
    "version": 3
   },
   "file_extension": ".py",
   "mimetype": "text/x-python",
   "name": "python",
   "nbconvert_exporter": "python",
   "pygments_lexer": "ipython3",
   "version": "3.13.5"
  }
 },
 "nbformat": 4,
 "nbformat_minor": 5
}
