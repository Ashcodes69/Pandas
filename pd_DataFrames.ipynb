{
 "cells": [
  {
   "cell_type": "markdown",
   "id": "4f623e49",
   "metadata": {},
   "source": [
    "# DataFrames:"
   ]
  },
  {
   "cell_type": "code",
   "execution_count": 3,
   "id": "c1e578ca",
   "metadata": {},
   "outputs": [],
   "source": [
    "import pandas as pd\n",
    "import numpy as np"
   ]
  },
  {
   "cell_type": "code",
   "execution_count": null,
   "id": "0c707a8c",
   "metadata": {},
   "outputs": [
    {
     "name": "stdout",
     "output_type": "stream",
     "text": [
      "      Name   Age Department   Salary\n",
      "0    Alice  25.0         HR  50000.0\n",
      "1      Bob  30.0         IT  60000.0\n",
      "2  Charlie  35.0    Finance  70000.0\n",
      "3    David   NaN         IT  62000.0\n",
      "4      Eve  29.0         HR      NaN\n",
      "5    Alice  25.0         HR  50000.0\n",
      "\n",
      "Shape of the DataFrame:  (6, 4)\n",
      "\n",
      "SIze of the DataFrame:  24\n",
      "\n",
      "Other important info about the DataFrame: \n",
      "\n",
      "<class 'pandas.core.frame.DataFrame'>\n",
      "RangeIndex: 6 entries, 0 to 5\n",
      "Data columns (total 4 columns):\n",
      " #   Column      Non-Null Count  Dtype  \n",
      "---  ------      --------------  -----  \n",
      " 0   Name        6 non-null      object \n",
      " 1   Age         5 non-null      float64\n",
      " 2   Department  6 non-null      object \n",
      " 3   Salary      5 non-null      float64\n",
      "dtypes: float64(2), object(2)\n",
      "memory usage: 324.0+ bytes\n",
      "\n",
      " described data frame:\n"
     ]
    },
    {
     "data": {
      "text/html": [
       "<div>\n",
       "<style scoped>\n",
       "    .dataframe tbody tr th:only-of-type {\n",
       "        vertical-align: middle;\n",
       "    }\n",
       "\n",
       "    .dataframe tbody tr th {\n",
       "        vertical-align: top;\n",
       "    }\n",
       "\n",
       "    .dataframe thead th {\n",
       "        text-align: right;\n",
       "    }\n",
       "</style>\n",
       "<table border=\"1\" class=\"dataframe\">\n",
       "  <thead>\n",
       "    <tr style=\"text-align: right;\">\n",
       "      <th></th>\n",
       "      <th>Age</th>\n",
       "      <th>Salary</th>\n",
       "    </tr>\n",
       "  </thead>\n",
       "  <tbody>\n",
       "    <tr>\n",
       "      <th>count</th>\n",
       "      <td>5.000000</td>\n",
       "      <td>5.000000</td>\n",
       "    </tr>\n",
       "    <tr>\n",
       "      <th>mean</th>\n",
       "      <td>28.800000</td>\n",
       "      <td>58400.000000</td>\n",
       "    </tr>\n",
       "    <tr>\n",
       "      <th>std</th>\n",
       "      <td>4.147288</td>\n",
       "      <td>8532.291603</td>\n",
       "    </tr>\n",
       "    <tr>\n",
       "      <th>min</th>\n",
       "      <td>25.000000</td>\n",
       "      <td>50000.000000</td>\n",
       "    </tr>\n",
       "    <tr>\n",
       "      <th>25%</th>\n",
       "      <td>25.000000</td>\n",
       "      <td>50000.000000</td>\n",
       "    </tr>\n",
       "    <tr>\n",
       "      <th>50%</th>\n",
       "      <td>29.000000</td>\n",
       "      <td>60000.000000</td>\n",
       "    </tr>\n",
       "    <tr>\n",
       "      <th>75%</th>\n",
       "      <td>30.000000</td>\n",
       "      <td>62000.000000</td>\n",
       "    </tr>\n",
       "    <tr>\n",
       "      <th>max</th>\n",
       "      <td>35.000000</td>\n",
       "      <td>70000.000000</td>\n",
       "    </tr>\n",
       "  </tbody>\n",
       "</table>\n",
       "</div>"
      ],
      "text/plain": [
       "             Age        Salary\n",
       "count   5.000000      5.000000\n",
       "mean   28.800000  58400.000000\n",
       "std     4.147288   8532.291603\n",
       "min    25.000000  50000.000000\n",
       "25%    25.000000  50000.000000\n",
       "50%    29.000000  60000.000000\n",
       "75%    30.000000  62000.000000\n",
       "max    35.000000  70000.000000"
      ]
     },
     "execution_count": 49,
     "metadata": {},
     "output_type": "execute_result"
    }
   ],
   "source": [
    "data = {\n",
    "    \"Name\": [\"Alice\", \"Bob\", \"Charlie\", \"David\", \"Eve\", \"Alice\"],\n",
    "    \"Age\": [25, 30, 35, np.nan, 29, 25],\n",
    "    \"Department\": [\"HR\", \"IT\", \"Finance\", \"IT\", \"HR\", \"HR\"],\n",
    "    \"Salary\": [50000, 60000, 70000, 62000, np.nan, 50000]\n",
    "}\n",
    "\n",
    "df = pd.DataFrame(data) # creates dataframe from a dictonary\n",
    "print(df)\n",
    "\n",
    "# no of rows are knwn as samle size\n",
    "# columns known as featers\n",
    "\n",
    "print(\"\\nShape of the DataFrame: \",df.shape) \n",
    "print(\"\\nSIze of the DataFrame: \",df.size) \n",
    "print(\"\\nOther important info about the DataFrame: \\n\") \n",
    "df.info()  # call this function to get all the information about data frames\n",
    "\n",
    "# perform some standrad operation on the df and gives a basic idea about the df\n",
    "print(\"\\n described data frame:\")\n",
    "df.describe()\n",
    "# checks only those columns which as int or float dataype\n"
   ]
  },
  {
   "cell_type": "markdown",
   "id": "33eef672",
   "metadata": {},
   "source": [
    "### .head() & .tail()\n",
    "   to get n elements from start or end"
   ]
  },
  {
   "cell_type": "code",
   "execution_count": 10,
   "id": "56e1616d",
   "metadata": {},
   "outputs": [
    {
     "name": "stdout",
     "output_type": "stream",
     "text": [
      "From start:\n",
      "\n",
      "     Name   Age Department   Salary\n",
      "0  Alice  25.0         HR  50000.0\n",
      "1    Bob  30.0         IT  60000.0\n",
      "\n",
      "From end:\n",
      "\n",
      "     Name   Age Department   Salary\n",
      "3  David   NaN         IT  62000.0\n",
      "4    Eve  29.0         HR      NaN\n",
      "5  Alice  25.0         HR  50000.0\n"
     ]
    }
   ],
   "source": [
    "print(\"From start:\\n\\n\", df.head(2))  # .head(n) gives first rows from the start\n",
    "print(\"\\nFrom end:\\n\\n\", df.tail(3))  # .tail(n) gives last rows from the last"
   ]
  },
  {
   "cell_type": "markdown",
   "id": "46a3692d",
   "metadata": {},
   "source": [
    "### .loc[ ] and .iloc[ ]\n",
    "to get a particular rows or columns"
   ]
  },
  {
   "cell_type": "code",
   "execution_count": 27,
   "id": "ac485e19",
   "metadata": {},
   "outputs": [
    {
     "name": "stdout",
     "output_type": "stream",
     "text": [
      "Elements from indes 1 to 3: \n",
      "      Name   Age Department   Salary\n",
      "1      Bob  30.0         IT  60000.0\n",
      "2  Charlie  35.0    Finance  70000.0\n",
      "3    David   NaN         IT  62000.0\n",
      "\n",
      "Salarys of the Employees: \n",
      "    Salary\n",
      "1  60000.0\n",
      "2  70000.0\n",
      "3  62000.0\n",
      "\n",
      "Names and Age of the Employees: \n",
      "      Name   Age\n",
      "1      Bob  30.0\n",
      "2  Charlie  35.0\n",
      "3    David   NaN\n"
     ]
    }
   ],
   "source": [
    "print(\"Elements from indes 1 to 3: \")\n",
    "print(df.iloc[1:4])  # returns desiered rows with all columns\n",
    "# to get both desired rows and column using iloc[]\n",
    "print(\"\\nSalarys of the Employees: \")\n",
    "print(df.iloc[1:4, 3:]) \n",
    "\n",
    "print(\"\\nNames and Age of the Employees: \")\n",
    "# in loc[] two parameters can be passed one for the rows and second one for the columns\n",
    "print(df.loc[1:3, [\"Name\", \"Age\"]])  # returns desired rows and also desired columns"
   ]
  },
  {
   "cell_type": "markdown",
   "id": "6bd1e99e",
   "metadata": {},
   "source": [
    "### .drop()\n",
    "to remove an entire row or column from DataFrame"
   ]
  },
  {
   "cell_type": "code",
   "execution_count": null,
   "id": "ebe4332e",
   "metadata": {},
   "outputs": [
    {
     "name": "stdout",
     "output_type": "stream",
     "text": [
      "      Name Department   Salary\n",
      "0    Alice         HR  50000.0\n",
      "1      Bob         IT  60000.0\n",
      "2  Charlie    Finance  70000.0\n",
      "3    David         IT  62000.0\n",
      "4      Eve         HR      NaN\n",
      "5    Alice         HR  50000.0\n",
      "\n",
      "       Name   Age Department   Salary\n",
      "0    Alice  25.0         HR  50000.0\n",
      "1      Bob  30.0         IT  60000.0\n",
      "2  Charlie  35.0    Finance  70000.0\n",
      "3    David   NaN         IT  62000.0\n",
      "4      Eve  29.0         HR      NaN\n",
      "5    Alice  25.0         HR  50000.0\n"
     ]
    }
   ],
   "source": [
    "# axis 1 for column 0 for rows\n",
    "# this removed entire age column from df\n",
    "print(df.drop(\"Age\", axis=1, inplace=False))  # this returns a coppy of our origional df\n",
    "# inplace=False set it true if want to change origional df by default its false\n",
    "\n",
    "print(\"\\n\", df)  # here age is still in data beause that was just a coppy"
   ]
  },
  {
   "cell_type": "markdown",
   "id": "e386bb03",
   "metadata": {},
   "source": [
    "### Brodcasting in Pandas"
   ]
  },
  {
   "cell_type": "code",
   "execution_count": 56,
   "id": "15907783",
   "metadata": {},
   "outputs": [
    {
     "name": "stdout",
     "output_type": "stream",
     "text": [
      "Original Salary: \n",
      " 0    65003.0\n",
      "1    75003.0\n",
      "2    85003.0\n",
      "3    77003.0\n",
      "4        NaN\n",
      "5    65003.0\n",
      "Name: Salary, dtype: float64\n",
      "\n",
      "Updated Salary: \n",
      " 0    70003.0\n",
      "1    80003.0\n",
      "2    90003.0\n",
      "3    82003.0\n",
      "4        NaN\n",
      "5    70003.0\n",
      "Name: Salary, dtype: float64\n"
     ]
    }
   ],
   "source": [
    "# lets increase the salarys of all employee by 5000\n",
    "\n",
    "print(\"Original Salary: \\n\", df[\"Salary\"])\n",
    "\n",
    "df[\"Salary\"] = df[\"Salary\"] + 5000\n",
    "# it updates in the origional dataframe made no coppys\n",
    "# this adds 5000 in everyones salary like an loop\n",
    "\n",
    "print(\"\\nUpdated Salary: \\n\", df[\"Salary\"])"
   ]
  },
  {
   "cell_type": "markdown",
   "id": "9bf25ec3",
   "metadata": {},
   "source": [
    "### Renaming columns"
   ]
  },
  {
   "cell_type": "code",
   "execution_count": null,
   "id": "af1e5b15",
   "metadata": {},
   "outputs": [
    {
     "name": "stdout",
     "output_type": "stream",
     "text": [
      "      Name   Age     Dept   Salary\n",
      "0    Alice  25.0       HR  70003.0\n",
      "1      Bob  30.0       IT  80003.0\n",
      "2  Charlie  35.0  Finance  90003.0\n",
      "3    David   NaN       IT  82003.0\n",
      "4      Eve  29.0       HR      NaN\n",
      "5    Alice  25.0       HR  70003.0\n"
     ]
    }
   ],
   "source": [
    "# lets change a name of the column   Department to Dept\n",
    "\n",
    "df.rename(columns={\"Department\": \"Dept\"}, inplace=True)\n",
    "# we added inplace=True so it changes in the main df instead of amking a copy\n",
    "print(df) # here Department changed into Dept"
   ]
  },
  {
   "cell_type": "markdown",
   "id": "b33a2c14",
   "metadata": {},
   "source": [
    "### .unique()\n",
    "to find the unique values "
   ]
  },
  {
   "cell_type": "code",
   "execution_count": null,
   "id": "f62695b3",
   "metadata": {},
   "outputs": [
    {
     "name": "stdout",
     "output_type": "stream",
     "text": [
      "Departments in office:  ['HR' 'IT' 'Finance']\n"
     ]
    }
   ],
   "source": [
    "print(\"Departments in office: \", df[\"Dept\"].unique())\n",
    "# returns only the unique values ignores dublicate values"
   ]
  },
  {
   "cell_type": "markdown",
   "id": "94d0d380",
   "metadata": {},
   "source": [
    "### .value_count()\n",
    "distribution of one particular column across the data set"
   ]
  },
  {
   "cell_type": "code",
   "execution_count": null,
   "id": "318ae83f",
   "metadata": {},
   "outputs": [
    {
     "name": "stdout",
     "output_type": "stream",
     "text": [
      "People working across all departments:\n",
      " Dept\n",
      "HR         3\n",
      "IT         2\n",
      "Finance    1\n",
      "Name: count, dtype: int64\n"
     ]
    }
   ],
   "source": [
    "print(\"People working across all departments:\\n\",df[\"Dept\"].value_counts()) \n",
    "# counts all rows in Dept column and returns their counts"
   ]
  }
 ],
 "metadata": {
  "kernelspec": {
   "display_name": "env",
   "language": "python",
   "name": "python3"
  },
  "language_info": {
   "codemirror_mode": {
    "name": "ipython",
    "version": 3
   },
   "file_extension": ".py",
   "mimetype": "text/x-python",
   "name": "python",
   "nbconvert_exporter": "python",
   "pygments_lexer": "ipython3",
   "version": "3.13.5"
  }
 },
 "nbformat": 4,
 "nbformat_minor": 5
}
