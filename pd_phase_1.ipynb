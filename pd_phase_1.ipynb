{
 "cells": [
  {
   "cell_type": "markdown",
   "id": "11fa8d5f",
   "metadata": {},
   "source": [
    "# Pandas Series\n",
    "\n",
    "1. A Series is a 1D labeled array.\n",
    "\n",
    "2. It can hold only 1 column but n number of rows.\n",
    "\n",
    "3. Stores any data type (int, float, string, object, etc.).\n",
    "\n",
    "4. Has two parts:\n",
    "\n",
    "   1. Index → labels (like row numbers in Excel).\n",
    "\n",
    "   2. Data → actual values.\n",
    "\n",
    "5. Default index starts from 0, but we can set custom labels.\n"
   ]
  },
  {
   "cell_type": "code",
   "execution_count": 2,
   "id": "e94a74cd",
   "metadata": {},
   "outputs": [],
   "source": [
    "import pandas as pd"
   ]
  },
  {
   "cell_type": "markdown",
   "id": "fdffc802",
   "metadata": {},
   "source": [
    "### Creating a simple series\n"
   ]
  },
  {
   "cell_type": "code",
   "execution_count": null,
   "id": "2e620585",
   "metadata": {},
   "outputs": [
    {
     "name": "stdout",
     "output_type": "stream",
     "text": [
      "Series:\n",
      " 0    10\n",
      "1    20\n",
      "2    30\n",
      "3    40\n",
      "4    50\n",
      "dtype: int64\n",
      "\n",
      "Series Data-type:  int64\n",
      "\n",
      "Series values:  [10 20 30 40 50]\n",
      "\n",
      "Series indexes:  RangeIndex(start=0, stop=5, step=1)\n",
      "\n",
      "Series name:  nums\n"
     ]
    }
   ],
   "source": [
    "s = pd.Series([10, 20, 30, 40, 50])\n",
    "print(\"Series:\\n\", s)\n",
    "print(\"\\nSeries Data-type: \", s.dtype)\n",
    "print(\"\\nSeries values: \", s.values)\n",
    "print(\"\\nSeries indexes: \", s.index)\n",
    "\n",
    "s.name = \"nums\"  # when we set name of a series it is also become the name of the column\n",
    "print(\"\\nSeries name: \", s.name)"
   ]
  },
  {
   "cell_type": "markdown",
   "id": "e6e676d6",
   "metadata": {},
   "source": [
    "#### Indexing\n"
   ]
  },
  {
   "cell_type": "code",
   "execution_count": 25,
   "id": "3f84c6a0",
   "metadata": {},
   "outputs": [
    {
     "name": "stdout",
     "output_type": "stream",
     "text": [
      "0th index nums of the Series:  10\n",
      "\n",
      "0-2 index nums of the Series: \n",
      " 0    10\n",
      "1    20\n",
      "2    30\n",
      "Name: nums, dtype: int64\n",
      "\n",
      "Num in index 3 is:  40\n",
      "\n",
      "Num in index 0,2,4 are: \n",
      " 0    10\n",
      "2    30\n",
      "4    50\n",
      "Name: nums, dtype: int64\n"
     ]
    }
   ],
   "source": [
    "print(\"0th index nums of the Series: \", s[0])\n",
    "print(\"\\n0-2 index nums of the Series: \\n\", s[0:3])\n",
    "\n",
    "# iloc -> Location based Indexing\n",
    "# in iloc[] you just need to provide the index of the element you want\n",
    "print(\"\\nNum in index 3 is: \", s.iloc[3])\n",
    "\n",
    "# get multiple values using iloc[[]]\n",
    "print(\"\\nNum in index 0,2,4 are: \\n\", s.iloc[[0, 2, 4]])"
   ]
  },
  {
   "cell_type": "markdown",
   "id": "af65e85a",
   "metadata": {},
   "source": [
    "### Custom indexes\n",
    "\n",
    "we can also create our own indexes instead of default 0-n\n"
   ]
  },
  {
   "cell_type": "code",
   "execution_count": null,
   "id": "583eaa18",
   "metadata": {},
   "outputs": [
    {
     "name": "stdout",
     "output_type": "stream",
     "text": [
      "Calories in frouts: \n",
      " apple         10\n",
      "banana        20\n",
      "graphes       30\n",
      "orange        40\n",
      "strowberry    50\n",
      "Name: calories, dtype: int64\n"
     ]
    }
   ],
   "source": [
    "s = pd.Series([10, 20, 30, 40, 50])\n",
    "indexes = [\"apple\", \"banana\", \"graphes\", \"orange\", \"strowberry\"]\n",
    "s.index = indexes  # add custom indexes in series\n",
    "s.name = \"calories\"\n",
    "print(\"Calories in frouts: \\n\", s)"
   ]
  },
  {
   "cell_type": "markdown",
   "id": "95586860",
   "metadata": {},
   "source": [
    "#### Indexing in custom indexes\n"
   ]
  },
  {
   "cell_type": "code",
   "execution_count": null,
   "id": "8204de92",
   "metadata": {},
   "outputs": [
    {
     "name": "stdout",
     "output_type": "stream",
     "text": [
      "Calorie in stroberry:  50\n",
      "banana     20\n",
      "graphes    30\n",
      "orange     40\n",
      "Name: calories, dtype: int64\n",
      "\n",
      "Using ilock:  50\n",
      "\n",
      "Using loc: \n",
      " apple      10\n",
      "banana     20\n",
      "graphes    30\n",
      "Name: calories, dtype: int64\n"
     ]
    }
   ],
   "source": [
    "print(\"Calorie in stroberry: \", s[\"strowberry\"])  # enter the index to get its value\n",
    "\n",
    "# in custom indexing [start:stop] both valuse are included\n",
    "print(s[\"banana\":\"orange\"])  # here orange is also included\n",
    "\n",
    "# using ilock[]\n",
    "# if we use ilock in custom index we need to provide it the index number 0-n\n",
    "print(\"\\nUsing ilock: \", s.iloc[4])  # we dont use it most of the time in custom index\n",
    "\n",
    "# so we use\n",
    "# loc[] -> means lable based indexing\n",
    "print(\n",
    "    \"\\nUsing loc: \\n\", s.loc[[\"apple\", \"banana\", \"graphes\"]]\n",
    ")  # use loc[] most of the time in custom indexes"
   ]
  },
  {
   "cell_type": "markdown",
   "id": "9530ca08",
   "metadata": {},
   "source": [
    "### Create series from dictionary\n"
   ]
  },
  {
   "cell_type": "code",
   "execution_count": null,
   "id": "689e9847",
   "metadata": {},
   "outputs": [
    {
     "name": "stdout",
     "output_type": "stream",
     "text": [
      "Apple     0.3\n",
      "Banana    1.1\n",
      "Mango     0.8\n",
      "Pear      0.4\n",
      "Peach     0.9\n",
      "Plum      0.7\n",
      "Grape     0.6\n",
      "Kiwi      1.1\n",
      "Lemon     1.1\n",
      "Cherry    1.0\n",
      "Name: protein, dtype: float64\n"
     ]
    }
   ],
   "source": [
    "fruit_protein = {\n",
    "    \"Apple\": 0.3,  # grmas of protein\n",
    "    \"Banana\": 1.1,\n",
    "    \"Mango\": 0.8,\n",
    "    \"Pear\": 0.4,\n",
    "    \"Peach\": 0.9,\n",
    "    \"Plum\": 0.7,\n",
    "    \"Grape\": 0.6,\n",
    "    \"Kiwi\": 1.1,\n",
    "    \"Lemon\": 1.1,\n",
    "    \"Cherry\": 1.0,\n",
    "}\n",
    "fruit_s = pd.Series(fruit_protein, name=\"protein\")  # name is by default 0\n",
    "print(fruit_s)\n",
    "\n",
    "# here we can also perfrom same operations like iloc[] and loc[] and everything"
   ]
  },
  {
   "cell_type": "markdown",
   "id": "9fd82aa8",
   "metadata": {},
   "source": [
    "#### Conditional selection"
   ]
  },
  {
   "cell_type": "code",
   "execution_count": 41,
   "id": "3a04fe25",
   "metadata": {},
   "outputs": [
    {
     "name": "stdout",
     "output_type": "stream",
     "text": [
      "Apple     False\n",
      "Banana     True\n",
      "Mango     False\n",
      "Pear      False\n",
      "Peach     False\n",
      "Plum      False\n",
      "Grape     False\n",
      "Kiwi       True\n",
      "Lemon      True\n",
      "Cherry    False\n",
      "Name: protein, dtype: bool\n",
      "\n",
      "Fruits with protien grater than 1: \n",
      "Banana    1.1\n",
      "Kiwi      1.1\n",
      "Lemon     1.1\n",
      "Name: protein, dtype: float64\n"
     ]
    }
   ],
   "source": [
    "# fruit_s>1  returns true or false    true when protien is grater than 1 and for less than 1 false\n",
    "print(fruit_s > 1)\n",
    "\n",
    "print(\"\\nFruits with protien grater than 1: \")\n",
    "print(fruit_s[fruit_s > 1])  # gives only thoese rows where protien is grater than one"
   ]
  },
  {
   "cell_type": "markdown",
   "id": "a92559a3",
   "metadata": {},
   "source": [
    "### Logicial Operators: AND, OR, NOT  ->  ( & ,  | ,  ~ )"
   ]
  },
  {
   "cell_type": "code",
   "execution_count": null,
   "id": "9b06d353",
   "metadata": {},
   "outputs": [
    {
     "name": "stdout",
     "output_type": "stream",
     "text": [
      "\n",
      "Using AND Operator: \n",
      "Mango    0.8\n",
      "Peach    0.9\n",
      "Plum     0.7\n",
      "Grape    0.6\n",
      "Name: protein, dtype: float64\n",
      "\n",
      "Using OR Operator: \n",
      "Apple     0.3\n",
      "Banana    1.1\n",
      "Mango     0.8\n",
      "Pear      0.4\n",
      "Peach     0.9\n",
      "Plum      0.7\n",
      "Grape     0.6\n",
      "Kiwi      1.1\n",
      "Lemon     1.1\n",
      "Cherry    1.0\n",
      "Name: protein, dtype: float64\n",
      "\n",
      "Using NOT Operator: \n",
      "Apple    0.3\n",
      "Pear     0.4\n",
      "Name: protein, dtype: float64\n"
     ]
    }
   ],
   "source": [
    "(fruit_s > 0.5) & (fruit_s < 1)\n",
    "# returns true or false to get auctual series we put this inside fruit_s\n",
    "# AND & Operator\n",
    "print(\"\\nUsing AND Operator: \")\n",
    "print(fruit_s[(fruit_s > 0.5) & (fruit_s < 1)])\n",
    "# elements which are higher than 0.5 but less than 1\n",
    "\n",
    "# Or | Operator\n",
    "print(\"\\nUsing OR Operator: \")\n",
    "print(fruit_s[(fruit_s > 0.5) | (fruit_s < 1)])\n",
    "# in or operator first it selects allthe valuse grater than 0.5 then all the values less than one so atlast it selects all values\n",
    "\n",
    "print(\"\\nUsing NOT Operator: \")\n",
    "print(fruit_s[~(fruit_s > 0.5)])\n",
    "# it will not select any element grater than 0.5"
   ]
  },
  {
   "cell_type": "markdown",
   "id": "2767e3a5",
   "metadata": {},
   "source": [
    "### Modyfying the Series"
   ]
  },
  {
   "cell_type": "code",
   "execution_count": null,
   "id": "27d22809",
   "metadata": {},
   "outputs": [
    {
     "name": "stdout",
     "output_type": "stream",
     "text": [
      "Modyfyied series: \n",
      "Apple     2.3\n",
      "Banana    1.1\n",
      "Mango     0.8\n",
      "Pear      0.4\n",
      "Peach     0.9\n",
      "Plum      0.7\n",
      "Grape     0.6\n",
      "Kiwi      1.1\n",
      "Lemon     1.1\n",
      "Cherry    1.0\n",
      "Name: protein, dtype: float64\n"
     ]
    }
   ],
   "source": [
    "# lets change the protein of apple to 0.3 to 2.3\n",
    "\n",
    "fruit_s['Apple'] = 2.3\n",
    "print(\"Modyfyied series: \")\n",
    "print(fruit_s)  # here apple value is changed"
   ]
  },
  {
   "cell_type": "code",
   "execution_count": null,
   "id": "d8b50d99",
   "metadata": {},
   "outputs": [],
   "source": []
  }
 ],
 "metadata": {
  "kernelspec": {
   "display_name": "env",
   "language": "python",
   "name": "python3"
  },
  "language_info": {
   "codemirror_mode": {
    "name": "ipython",
    "version": 3
   },
   "file_extension": ".py",
   "mimetype": "text/x-python",
   "name": "python",
   "nbconvert_exporter": "python",
   "pygments_lexer": "ipython3",
   "version": "3.13.5"
  }
 },
 "nbformat": 4,
 "nbformat_minor": 5
}
